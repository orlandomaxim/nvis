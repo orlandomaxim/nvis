{
 "cells": [
  {
   "cell_type": "code",
   "execution_count": 10,
   "id": "d4a2e0c3",
   "metadata": {},
   "outputs": [],
   "source": [
    "import os\n",
    "from glob import glob\n",
    "import geopandas as gpd\n",
    "from multiprocessing import Pool\n",
    "import multiprocessing as mp\n",
    "\n",
    "from tqdm import tqdm\n",
    "\n",
    "from concurrent.futures import ThreadPoolExecutor\n",
    "import multiprocessing as mp\n",
    "\n",
    "import rasterio\n",
    "from rasterio.windows import from_bounds\n",
    "from pyproj import CRS\n",
    "import sys\n",
    "import time\n",
    "\n",
    "from shapely import wkt\n",
    "\n",
    "import numpy as np\n"
   ]
  },
  {
   "cell_type": "code",
   "execution_count": 2,
   "id": "c73b49cd",
   "metadata": {},
   "outputs": [],
   "source": [
    "nvis_polygon = '/mnt/datapool1/datapool1/datasets/nvis_outputs/NVIS_8L_fm_mape_r1_KI2020/nvis_polygon_7853.gpkg'\n",
    "nn_outputs = '/mnt/datapool1/datapool1/datasets/nvis_outputs/NVIS_8L_fm_mape_r1_KI2020/merged/NVIS_8L_fm_mape_r1_KI2020_merged.tif'\n",
    "delivery_tile = '/mnt/datapool1/datapool1/datasets/nvis_outputs/NVIS_8L_fm_mape_r1_KI2020/KI2020_delivery_tile.geojson'\n",
    "outputs_path = '/mnt/datapool1/datapool1/datasets/nvis_outputs/NVIS_8L_fm_mape_r1_KI2020/'\n",
    "output_name = 'NVIS_8L_fm_mape_r1_KI2020'\n",
    "\n",
    "# nvis_polygon = '/mnt/datapool1/datapool1/datasets/nvis_outputs/NVIS_8L_fm_mape_r1_WASouth/NVIS_WASouth_7850.gpkg'\n",
    "# nn_outputs = '/mnt/datapool1/datapool1/datasets/nvis_outputs/NVIS_8L_fm_mape_r1_WASouth/merged/WASouth_merged.tif'\n",
    "# delivery_tile = '/mnt/datapool1/datapool1/datasets/nvis_outputs/NVIS_8L_fm_mape_r1_WASouth/WASouth_delivery_tile.geojson'\n",
    "# outputs_path = '/mnt/datapool1/datapool1/datasets/nvis_outputs/NVIS_8L_fm_mape_r1_WASouth/'\n",
    "# output_name = 'NVIS_8L_fm_mape_r1_WASouth'\n",
    "\n",
    "# nvis_polygon = '/mnt/datapool1/datapool1/datasets/nvis_outputs/NVIS_8L_fm_mape_r1_KI2025/nvis_polygon_7853.gpkg'\n",
    "# nn_outputs = '/mnt/datapool1/datapool1/datasets/nvis_outputs/NVIS_8L_fm_mape_r1_KI2025/merged/NVIS_8L_fm_mape_r1_KI2025_merged.tif'\n",
    "# delivery_tile = '/mnt/datapool1/datapool1/datasets/nvis_outputs/NVIS_8L_fm_mape_r1_KI2025/KI2025_delivery_tile.geojson'\n",
    "# outputs_path = '/mnt/datapool1/datapool1/datasets/nvis_outputs/NVIS_8L_fm_mape_r1_KI2025/'\n",
    "# output_name = 'NVIS_8L_fm_mape_r1_KI2025'\n",
    "\n",
    "# nvis_polygon = '/mnt/datapool1/datapool1/datasets/nvis_outputs/NVIS_8L_fm_mape_r1_Billabong/NVIS_Billabong_7850.gpkg'\n",
    "# nn_outputs = '/mnt/datapool1/datapool1/datasets/nvis_outputs/NVIS_8L_fm_mape_r1_Billabong/merged/NVIS_8L_fm_mape_r1_Billabong_merged.tif'\n",
    "# delivery_tile = '/mnt/datapool1/datapool1/datasets/nvis_outputs/NVIS_8L_fm_mape_r1_Billabong/Billabong_delivery_tile.geojson'\n",
    "# outputs_path = '/mnt/datapool1/datapool1/datasets/nvis_outputs/NVIS_8L_fm_mape_r1_Billabong/'\n",
    "# output_name = 'NVIS_8L_fm_mape_r1_Billabong'\n",
    "\n",
    "# nvis_polygon = '/mnt/datapool1/datapool1/datasets/nvis_outputs/NVIS_8L_fm_mape_r1_MulgaLands/NVIS_Mulga_dissolved.gpkg'\n",
    "# nn_outputs = '/mnt/datapool1/datapool1/datasets/nvis_outputs/NVIS_8L_fm_mape_r1_MulgaLands/merged/NVIS_8L_fm_mape_r1_MulgaLands_merged.tif'\n",
    "# delivery_tile = '/mnt/datapool1/datapool1/datasets/nvis_outputs/NVIS_8L_fm_mape_r1_MulgaLands/MulgaLands_delivery_tile.geojson'\n",
    "# outputs_path = '/mnt/datapool1/datapool1/datasets/nvis_outputs/NVIS_8L_fm_mape_r1_MulgaLands/'\n",
    "# output_name = 'NVIS_8L_fm_mape_r1_MulgaLands'\n",
    "\n",
    "# nvis_polygon = '/mnt/datapool1/datapool1/datasets/nvis_outputs/NVIS_8L_fm_mape_r1_Tenterfield/NVIS_Tenterfield_dissolved.gpkg'\n",
    "# nn_outputs = '/mnt/datapool1/datapool1/datasets/nvis_outputs/NVIS_8L_fm_mape_r1_Tenterfield/merged/NVIS_8L_fm_mape_r1_Tenterfield_merged.tif'\n",
    "# delivery_tile = '/mnt/datapool1/datapool1/datasets/nvis_outputs/NVIS_8L_fm_mape_r1_Tenterfield/Tenterfield_delivery_tile.geojson'\n",
    "# outputs_path = '/mnt/datapool1/datapool1/datasets/nvis_outputs/NVIS_8L_fm_mape_r1_Tenterfield/'\n",
    "# output_name = 'NVIS_8L_fm_mape_r1_Tenterfield_QLD'"
   ]
  },
  {
   "cell_type": "code",
   "execution_count": 3,
   "id": "206919af",
   "metadata": {},
   "outputs": [],
   "source": [
    "os.environ['GDAL_CACHEMAX'] = '2048'  # 2GB cache (adjust based on your RAM)\n",
    "os.environ['GDAL_NUM_THREADS'] = 'ALL_CPUS'  # Use all CPU cores\n",
    "os.environ['GDAL_DISABLE_READDIR_ON_OPEN'] = 'EMPTY_DIR'\n",
    "os.environ['VSI_CACHE'] = 'TRUE'\n",
    "os.environ['VSI_CACHE_SIZE'] = '25000000'  # 25MB cache per file\n",
    "os.environ['GDAL_MAX_DATASET_POOL_SIZE'] = '450'\n",
    "os.environ['GTIFF_SRS_SOURCE'] = 'EPSG'"
   ]
  },
  {
   "cell_type": "code",
   "execution_count": 4,
   "id": "0b16f90f",
   "metadata": {},
   "outputs": [],
   "source": [
    "height_ranges = {1: '<0.5',\n",
    "                 2: '0.5-1',\n",
    "                 3: '1-2',\n",
    "                 4: '>2',\n",
    "                 5: '<3',\n",
    "                 6: '<10',\n",
    "                 7: '10-30',\n",
    "                 8: '>30'}"
   ]
  },
  {
   "cell_type": "code",
   "execution_count": 5,
   "id": "0d09c4ea",
   "metadata": {},
   "outputs": [],
   "source": [
    "def init_qgis():\n",
    "    #Imports specifically for QGIS api\n",
    "    import sys\n",
    "    import os\n",
    "    from pathlib import Path\n",
    "    # Get conda environment path\n",
    "    conda_prefix = Path(sys.executable).parents[1]\n",
    "    # Set environment variables\n",
    "    os.environ['QGIS_PREFIX_PATH'] = str(conda_prefix)\n",
    "    os.environ['QT_QPA_PLATFORM'] = 'offscreen'\n",
    "    # Add QGIS Python paths\n",
    "    qgis_python_path = conda_prefix / \"share\" / \"qgis\" / \"python\"\n",
    "    plugins_path = conda_prefix / \"share\" / \"qgis\" / \"python\" / \"plugins\"\n",
    "    for path in [str(plugins_path), str(qgis_python_path)]:\n",
    "        if path not in sys.path:\n",
    "            sys.path.insert(0, path)\n",
    "    from qgis.core import QgsApplication\n",
    "    from qgis.analysis import QgsNativeAlgorithms\n",
    "\n",
    "    from qgis.analysis import QgsNativeAlgorithms\n",
    "    QgsApplication.processingRegistry().addProvider(QgsNativeAlgorithms())\n",
    "\n",
    "    from qgistools import QGISTools\n",
    "\n",
    "    tools = QGISTools()\n",
    "\n",
    "    return tools"
   ]
  },
  {
   "cell_type": "code",
   "execution_count": 6,
   "id": "7554762b",
   "metadata": {},
   "outputs": [],
   "source": [
    "def split_nn_outputs(nn_outputs, batch_grid_gdf, temp_path):\n",
    "    \"\"\"\n",
    "    Split the NN outputs into batches based on the batch grid.\n",
    "    \"\"\"\n",
    "    grid_gdf = gpd.read_file(batch_grid_gdf)\n",
    "\n",
    "    with rasterio.open(nn_outputs) as src:\n",
    "        raster_crs = src.crs\n",
    "\n",
    "        reprojected_grid_gdf = grid_gdf.to_crs(3857)\n",
    "\n",
    "        for idx, row in tqdm(reprojected_grid_gdf.iterrows(), total=len(reprojected_grid_gdf), desc='Splitting NN Outputs'):\n",
    "            bounds = row.geometry.buffer(20).bounds\n",
    "            batch_id_bounds = grid_gdf.iloc[idx].geometry.bounds\n",
    "            batch_id = str(int(batch_id_bounds[0])) + '_' + str(int(batch_id_bounds[1]))\n",
    "            if batch_id == '754000_6036000':\n",
    "                print(batch_id)\n",
    "            out_name = os.path.join(temp_path, f\"{batch_id}_nn_tile.tif\")\n",
    "            if os.path.exists(out_name):\n",
    "                continue\n",
    "            try:\n",
    "                window = from_bounds(*bounds, transform=src.transform)\n",
    "                window = window.intersection(src.window(*src.bounds))\n",
    "\n",
    "                if window.width == 0 or window.height == 0:\n",
    "                    print(f\"Skipping empty window for bounds {bounds}\")\n",
    "                    continue\n",
    "\n",
    "                out_transform = src.window_transform(window)\n",
    "                out_image = src.read(window=window)\n",
    "\n",
    "                out_meta = src.meta.copy()\n",
    "                out_meta.update({\n",
    "                    \"height\": out_image.shape[1],\n",
    "                    \"width\": out_image.shape[2],\n",
    "                    \"transform\": out_transform,\n",
    "                    \"crs\": CRS.from_epsg(3857),\n",
    "                    \"driver\": \"GTiff\",\n",
    "                    \"compress\": \"ZSTD\",\n",
    "                    \"zstd_level\": 9,\n",
    "                    \"tiled\": True,\n",
    "                    \"BIGTIFF\": \"YES\",\n",
    "                    \"predictor\": 1\n",
    "                })\n",
    "\n",
    "                with rasterio.open(out_name, \"w\", **out_meta) as dest:\n",
    "                    dest.write(out_image)\n",
    "            except Exception as e:\n",
    "                print(f\"Error processing bounds {bounds} for batch {batch_id}: {e}\")"
   ]
  },
  {
   "cell_type": "code",
   "execution_count": 7,
   "id": "a10a54ab",
   "metadata": {},
   "outputs": [],
   "source": [
    "def create_batch_grid(nvis_polygon, grid_size, temp_path):\n",
    "    nvis_gdf = gpd.read_file(nvis_polygon)\n",
    "    tools = init_qgis()\n",
    "    # nvis_bounds = nvis_gdf.unary_union.bounds\n",
    "    nvis_bounds = nvis_gdf.union_all().bounds\n",
    "    nvis_bounds_rounded = (\n",
    "        ((nvis_bounds[0] // grid_size)) * grid_size, # minx\n",
    "        ((nvis_bounds[1] // grid_size)) * grid_size, # miny\n",
    "        ((nvis_bounds[2] // grid_size) + 1) * grid_size, # maxx\n",
    "        ((nvis_bounds[3] // grid_size) + 1) * grid_size  # maxy\n",
    "    )\n",
    "    print(nvis_bounds_rounded)\n",
    "\n",
    "    batch_grid_extent = str(nvis_bounds_rounded[0] - 1000) + ',' + str(nvis_bounds_rounded[2] + 1000) + ',' + str(nvis_bounds_rounded[1] - 1000) + ',' + str(nvis_bounds_rounded[3] + 1000) + f' [{nvis_gdf.crs.srs}]'\n",
    "\n",
    "    print(batch_grid_extent)\n",
    "\n",
    "    output_path = os.path.join(temp_path, f'batch_grid_{grid_size}m.gpkg')\n",
    "\n",
    "    tools.creategrid(\n",
    "            nvis_gdf.crs.srs,\n",
    "            batch_grid_extent,\n",
    "            grid_size,\n",
    "            2,\n",
    "            output_path\n",
    "        )\n",
    "    \n",
    "    return output_path"
   ]
  },
  {
   "cell_type": "code",
   "execution_count": 14,
   "id": "9e7125fb",
   "metadata": {},
   "outputs": [],
   "source": [
    "def process_batch(row_dict):\n",
    "    tools = init_qgis()\n",
    "    row_dict['geometry'] = wkt.loads(row_dict['geometry_wkt'])\n",
    "    batch_grid = row_dict\n",
    "    batch_grid_bounds = batch_grid['geometry'].bounds\n",
    "    \n",
    "    batch_id = str(int(batch_grid_bounds[0])) + '_' + str(int(batch_grid_bounds[1]))\n",
    "    extent = str(batch_grid_bounds[0] - 10) + ',' + str(batch_grid_bounds[2] + 10) + ',' + str(batch_grid_bounds[1] - 10) + ',' + str(batch_grid_bounds[3] + 10) + f' [{batch_grid_gdf.crs.srs}]'\n",
    "    \n",
    "    start_time = time.time()\n",
    "    tools.creategrid(\n",
    "        batch_grid_gdf.crs.srs,\n",
    "        extent,\n",
    "        10,\n",
    "        2,\n",
    "        os.path.join(temp_path, f'{batch_id}_batch_grid_10m.gpkg')\n",
    "    )\n",
    "    print(f\"Batch grid created in {time.time() - start_time} seconds for batch {batch_id}\")\n",
    "\n",
    "    start_time = time.time()\n",
    "    batch_10m_grid_file = os.path.join(temp_path, f'{batch_id}_batch_grid_10m.gpkg')\n",
    "\n",
    "    nn_output_tile = os.path.join(temp_path, f'{batch_id}_nn_tile.tif')\n",
    "\n",
    "    if not os.path.exists(nn_output_tile):\n",
    "        print(f\"NN output tile {nn_output_tile} does not exist, skipping.\")\n",
    "        return None\n",
    "    \n",
    "    merged_raster = os.path.join(temp_path, f'{batch_id}_merged.tif')\n",
    "    if not os.path.exists(merged_raster):\n",
    "        for band, height_range in height_ranges.items():\n",
    "            out_zonals_path = os.path.join(temp_path, f'{batch_id}_zonal_stats_band{band}.gpkg')\n",
    "            try:\n",
    "                tools.calculate_zonal_statitics(\n",
    "                    'zs_',\n",
    "                    batch_10m_grid_file,\n",
    "                    nn_output_tile,\n",
    "                    band,\n",
    "                    [2],\n",
    "                    out_zonals_path\n",
    "                )\n",
    "            except Exception as e:\n",
    "                print(f\"Error processing zonals for height range {height_range}: {e}\")\n",
    "                continue\n",
    "\n",
    "            clamped_zonals_path = os.path.join(temp_path, f'{batch_id}_zonal_stats_band{band}_clamped.gpkg')\n",
    "            out_zonals_gdf = gpd.read_file(out_zonals_path)\n",
    "            out_zonals_gdf['zs_mean'] = out_zonals_gdf['zs_mean'].clip(0, 1)\n",
    "            out_zonals_gdf.to_file(clamped_zonals_path)\n",
    "\n",
    "            band_raster_path = os.path.join(temp_path, f'{batch_id}_band{band}_raster.tif')\n",
    "\n",
    "            band_rasterise_cmd = f\"\"\"\n",
    "                gdal_rasterize \\\n",
    "                -l {os.path.basename(clamped_zonals_path).split('.')[0]} \\\n",
    "                -a zs_mean \\\n",
    "                -tr 10.0 10.0 \\\n",
    "                -a_nodata -9999.0 \\\n",
    "                -te {batch_grid_bounds[0] - 10} {batch_grid_bounds[1] - 10} {batch_grid_bounds[2] + 10} {batch_grid_bounds[3] + 10} \\\n",
    "                -ot Float32 \\\n",
    "                -of GTiff \\\n",
    "                -co COMPRESS=ZSTD \\\n",
    "                -co ZSTD_LEVEL=9 \\\n",
    "                -co TILED=YES \\\n",
    "                -co BIGTIFF=YES \\\n",
    "                -co PREDICTOR=1 \\\n",
    "                {clamped_zonals_path} \\\n",
    "                {band_raster_path} \\\n",
    "            \"\"\"\n",
    "            os.system(band_rasterise_cmd)\n",
    "        \n",
    "        # Merge bands into single tif\n",
    "        merge_cmd = f\"\"\"\n",
    "            gdal_merge.py \\\n",
    "            -separate \\\n",
    "            -o {merged_raster} \\\n",
    "            -co COMPRESS=ZSTD \\\n",
    "            -co ZSTD_LEVEL=9 \\\n",
    "            -co TILED=YES \\\n",
    "            -co BIGTIFF=YES \\\n",
    "            -co PREDICTOR=1 \\\n",
    "            {temp_path}/{batch_id}_band*_raster.tif\n",
    "        \"\"\"\n",
    "        print(merge_cmd)\n",
    "        os.system(merge_cmd)\n",
    "\n",
    "    with rasterio.open(merged_raster) as src:\n",
    "        merged_data = src.read().astype(np.float32)\n",
    "        profile = src.profile.copy()\n",
    "\n",
    "    output_bands = np.zeros_like(merged_data, dtype=np.uint8)\n",
    "\n",
    "    band7_mask = merged_data[7] > cutoff  # band8 > cutoff\n",
    "    band6_mask = (merged_data[6] > cutoff) & (~band7_mask)  # band7 > cutoff AND not band8\n",
    "    band5_condition = (merged_data[5] > cutoff) & (~band7_mask) & (~band6_mask)  # band6 > cutoff AND not band8,7\n",
    "\n",
    "    band4_low = merged_data[4] < cutoff\n",
    "    band3_high = merged_data[3] > cutoff\n",
    "    band2_high = merged_data[2] > cutoff\n",
    "    band1_high = merged_data[1] > cutoff\n",
    "    band0_high = merged_data[0] > cutoff\n",
    "\n",
    "    output_bands[7][band7_mask] = 1\n",
    "    output_bands[6][band6_mask] = 1\n",
    "\n",
    "    band5_mask = band5_condition & band4_low\n",
    "    output_bands[5][band5_mask] = 1\n",
    "\n",
    "    band4_mask = band5_condition & (~band4_low) & band3_high\n",
    "    output_bands[4][band4_mask] = 1\n",
    "    \n",
    "    band3_mask = band5_condition & (~band4_low) & (~band3_high) & band2_high\n",
    "    output_bands[3][band3_mask] = 1\n",
    "    \n",
    "    band2_mask = band5_condition & (~band4_low) & (~band3_high) & (~band2_high) & band1_high\n",
    "    output_bands[2][band2_mask] = 1\n",
    "    \n",
    "    band1_mask = band5_condition & (~band4_low) & (~band3_high) & (~band2_high) & (~band1_high) & band0_high\n",
    "    output_bands[1][band1_mask] = 1\n",
    "\n",
    "    band0_nested_mask = band5_condition & (~band4_low) & (~band3_high) & (~band2_high) & (~band1_high) & (~band0_high)\n",
    "    output_bands[0][band0_nested_mask] = 1\n",
    "    \n",
    "    default_mask = (~band7_mask) & (~band6_mask) & (~band5_condition)\n",
    "    output_bands[0][default_mask] = 1\n",
    "\n",
    "    profile.update({\n",
    "        'dtype': 'uint8',\n",
    "        'nodata': None,\n",
    "        'compress': 'ZSTD',\n",
    "        'zstd_level': 9,\n",
    "        'tiled': True,\n",
    "        'bigtiff': True,\n",
    "        'predictor': 1\n",
    "    })\n",
    "\n",
    "    height_raster = os.path.join(temp_path, f'{batch_id}_height.tif')\n",
    "\n",
    "    with rasterio.open(height_raster, 'w', **profile) as dst:\n",
    "        dst.write(output_bands)"
   ]
  },
  {
   "cell_type": "code",
   "execution_count": 21,
   "id": "8a609adf",
   "metadata": {},
   "outputs": [],
   "source": [
    "def merge_outputs(temp_path, output_path, output_name):\n",
    "    os.makedirs(os.path.join(output_path, 'merged'), exist_ok=True)\n",
    "\n",
    "    merge_cmd = f\"\"\"\n",
    "        gdal_merge.py \\\n",
    "        -o {output_path}/merged/{output_name}_height_merged.tif \\\n",
    "        -co COMPRESS=ZSTD \\\n",
    "        -co ZSTD_LEVEL=9 \\\n",
    "        -co TILED=YES \\\n",
    "        -co BIGTIFF=YES \\\n",
    "        -co PREDICTOR=1 \\\n",
    "        {temp_path}/*_height.tif\n",
    "    \"\"\"\n",
    "    print(merge_cmd)\n",
    "    os.system(merge_cmd)\n",
    "    pyramids_cmd = f\"\"\"\n",
    "        gdaladdo \\\n",
    "        -r average \\\n",
    "        --config COMPRESS_OVERVIEW ZSTD \\\n",
    "        --config ZSTD_LEVEL_OVERVIEW 9 \\\n",
    "        --config TILED_OVERVIEW YES \\\n",
    "        --config PREDICTOR_OVERVIEW 1 \\\n",
    "        --config BIGTIFF_OVERVIEW YES \\\n",
    "        {output_path}/merged/{output_name}_height_merged.tif \\\n",
    "        2 4 8 16 32 64 128 256\n",
    "    \"\"\"\n",
    "    print(pyramids_cmd)\n",
    "    # os.system(pyramids_cmd)"
   ]
  },
  {
   "cell_type": "code",
   "execution_count": 22,
   "id": "ed416c47",
   "metadata": {},
   "outputs": [],
   "source": [
    "def clip_outputs(temp_path, output_path, clipping_polygon, epsg=9473):\n",
    "    os.makedirs(os.path.join(output_path, 'merged_clipped'), exist_ok=True)\n",
    "    clip_cmd = f\"\"\"\n",
    "        gdalwarp \\\n",
    "        -cutline {clipping_polygon} \\\n",
    "        -crop_to_cutline \\\n",
    "        -dstnodata -9999 \\\n",
    "        -co COMPRESS=ZSTD \\\n",
    "        -co ZSTD_LEVEL=9 \\\n",
    "        -co TILED=YES \\\n",
    "        -co BIGTIFF=YES \\\n",
    "        -co PREDICTOR=1 \\\n",
    "        {output_path}/merged/{output_name}_height_merged.tif \\\n",
    "        {output_path}/merged/{output_name}_height_merged_clipped.tif\n",
    "    \"\"\"\n",
    "    print(clip_cmd)\n",
    "    os.system(clip_cmd)\n",
    "    pyramids_cmd = f\"\"\"\n",
    "        gdaladdo \\\n",
    "        -r average \\\n",
    "        --config COMPRESS_OVERVIEW ZSTD \\\n",
    "        --config ZSTD_LEVEL_OVERVIEW 9 \\\n",
    "        --config TILED_OVERVIEW YES \\\n",
    "        --config PREDICTOR_OVERVIEW 1 \\\n",
    "        --config BIGTIFF_OVERVIEW YES \\\n",
    "        {output_path}/merged/{output_name}_height_merged_clipped.tif \\\n",
    "        2 4 8 16 32 64 128 256\n",
    "    \"\"\"\n",
    "    print(pyramids_cmd)\n",
    "    # os.system(pyramids_cmd)"
   ]
  },
  {
   "cell_type": "code",
   "execution_count": 23,
   "id": "56c05f98",
   "metadata": {},
   "outputs": [
    {
     "name": "stdout",
     "output_type": "stream",
     "text": [
      "\n",
      "        gdal_merge.py         -o /mnt/datapool1/datapool1/datasets/nvis_outputs/NVIS_8L_fm_mape_r1_KI2020//merged/NVIS_8L_fm_mape_r1_KI2020_height_merged.tif         -co COMPRESS=ZSTD         -co ZSTD_LEVEL=9         -co TILED=YES         -co BIGTIFF=YES         -co PREDICTOR=1         /mnt/datapool1/datapool1/datasets/nvis_outputs/NVIS_8L_fm_mape_r1_KI2020/temp/*_height.tif\n",
      "    \n",
      "0...10...20...30...40...50...60...70...80...90...100 - done.\n",
      "\n",
      "        gdaladdo         -r average         --config COMPRESS_OVERVIEW ZSTD         --config ZSTD_LEVEL_OVERVIEW 9         --config TILED_OVERVIEW YES         --config PREDICTOR_OVERVIEW 1         --config BIGTIFF_OVERVIEW YES         /mnt/datapool1/datapool1/datasets/nvis_outputs/NVIS_8L_fm_mape_r1_KI2020//merged/NVIS_8L_fm_mape_r1_KI2020_height_merged.tif         2 4 8 16 32 64 128 256\n",
      "    \n"
     ]
    }
   ],
   "source": [
    "merge_outputs(temp_path, outputs_path, output_name)"
   ]
  },
  {
   "cell_type": "code",
   "execution_count": 20,
   "id": "c5287a96",
   "metadata": {},
   "outputs": [
    {
     "name": "stdout",
     "output_type": "stream",
     "text": [
      "\n",
      "        gdalwarp         -cutline /mnt/datapool1/datapool1/datasets/nvis_outputs/NVIS_8L_fm_mape_r1_KI2020/KI2020_delivery_tile.geojson         -crop_to_cutline         -dstnodata -9999         -co COMPRESS=ZSTD         -co ZSTD_LEVEL=9         -co TILED=YES         -co BIGTIFF=YES         -co PREDICTOR=1         /mnt/datapool1/datapool1/datasets/nvis_outputs/NVIS_8L_fm_mape_r1_KI2020//merged/NVIS_8L_fm_mape_r1_KI2020_height_merged.tif         /mnt/datapool1/datapool1/datasets/nvis_outputs/NVIS_8L_fm_mape_r1_KI2020//merged/NVIS_8L_fm_mape_r1_KI2020_height_merged_clipped.tif\n",
      "    \n",
      "Creating output file that is 11545P x 5735L.\n",
      "Processing /mnt/datapool1/datapool1/datasets/nvis_outputs/NVIS_8L_fm_mape_r1_KI2020//merged/NVIS_8L_fm_mape_r1_KI2020_height_merged.tif [1/1] : 0"
     ]
    },
    {
     "name": "stderr",
     "output_type": "stream",
     "text": [
      "Warning 1: for band 1, destination nodata value has been clamped to 0, the original value being out of range.\n"
     ]
    },
    {
     "name": "stdout",
     "output_type": "stream",
     "text": [
      "...10...20...30...40...50...60...70...80...90...100 - done.\n",
      "\n",
      "        gdaladdo         -r average         --config COMPRESS_OVERVIEW ZSTD         --config ZSTD_LEVEL_OVERVIEW 9         --config TILED_OVERVIEW YES         --config PREDICTOR_OVERVIEW 1         --config BIGTIFF_OVERVIEW YES         /mnt/datapool1/datapool1/datasets/nvis_outputs/NVIS_8L_fm_mape_r1_KI2020//merged/NVIS_8L_fm_mape_r1_KI2020_height_merged_clipped.tif         2 4 8 16 32 64 128 256\n",
      "    \n",
      "0...10...20...30...40...50...60...70...80...90...100 - done.\n"
     ]
    }
   ],
   "source": [
    "clip_outputs(temp_path, outputs_path, delivery_tile)"
   ]
  },
  {
   "cell_type": "code",
   "execution_count": 15,
   "id": "12830b8c",
   "metadata": {},
   "outputs": [
    {
     "name": "stderr",
     "output_type": "stream",
     "text": [
      "Logged warning: Duplicate provider native registered\n"
     ]
    },
    {
     "name": "stdout",
     "output_type": "stream",
     "text": [
      "(635000.0, 5995000.0, 785000.0, 6065000.0)\n",
      "634000.0,786000.0,5994000.0,6066000.0 [EPSG:7853]\n",
      "creating grid completed successfully.\n"
     ]
    },
    {
     "name": "stderr",
     "output_type": "stream",
     "text": [
      "batch_list:   0%|\u001b[34m          \u001b[0m| 0/465 [00:00<?, ?it/s]Logged warning: Duplicate provider native registered\n",
      "Logged warning: Duplicate provider native registered\n",
      "Logged warning: Duplicate provider native registered\n",
      "Logged warning: Duplicate provider native registered\n",
      "Logged warning: Duplicate provider native registered\n",
      "Logged warning: Duplicate provider native registered\n",
      "Logged warning: Duplicate provider native registered\n",
      "Logged warning: Duplicate provider native registered\n",
      "Logged warning: Duplicate provider native registered\n",
      "Logged warning: Duplicate provider native registered\n",
      "Logged warning: Duplicate provider native registered\n",
      "Logged warning: Duplicate provider native registered\n",
      "Logged warning: Duplicate provider native registered\n",
      "Logged warning: Duplicate provider native registered\n",
      "Logged warning: Duplicate provider native registered\n",
      "Logged warning: Duplicate provider native registered\n",
      "Logged warning: Duplicate provider native registered\n",
      "Logged warning: Duplicate provider native registered\n",
      "Logged warning: Duplicate provider native registered\n",
      "Logged warning: Duplicate provider native registered\n",
      "Logged warning: Duplicate provider native registered\n",
      "Logged warning: Duplicate provider native registered\n",
      "Logged warning: Duplicate provider native registered\n",
      "Logged warning: Duplicate provider native registered\n",
      "Logged warning: Duplicate provider native registered\n",
      "Logged warning: Duplicate provider native registered\n",
      "Logged warning: Duplicate provider native registered\n",
      "Logged warning: Duplicate provider native registered\n",
      "Logged warning: Duplicate provider native registered\n",
      "Logged warning: Duplicate provider native registered\n",
      "Logged warning: Duplicate provider native registered\n",
      "Logged warning: Duplicate provider native registered\n",
      "Logged warning: Duplicate provider native registered\n",
      "Logged warning: Duplicate provider native registered\n",
      "Logged warning: Duplicate provider native registered\n",
      "Logged warning: Duplicate provider native registered\n",
      "Logged warning: Duplicate provider native registered\n",
      "Logged warning: Duplicate provider native registered\n",
      "Logged warning: Duplicate provider native registered\n",
      "Logged warning: Duplicate provider native registered\n",
      "Logged warning: Duplicate provider native registered\n",
      "Logged warning: Duplicate provider native registered\n",
      "Logged warning: Duplicate provider native registered\n",
      "Logged warning: Duplicate provider native registered\n",
      "Logged warning: Duplicate provider native registered\n",
      "Logged warning: Duplicate provider native registered\n",
      "Logged warning: Duplicate provider native registered\n",
      "Logged warning: Duplicate provider native registered\n",
      "Logged warning: Duplicate provider native registered\n",
      "Logged warning: Duplicate provider native registered\n",
      "Logged warning: Duplicate provider native registered\n",
      "Logged warning: Duplicate provider native registered\n",
      "Logged warning: Duplicate provider native registered\n",
      "Logged warning: Duplicate provider native registered\n",
      "Logged warning: Duplicate provider native registered\n",
      "Logged warning: Duplicate provider native registered\n",
      "Logged warning: Duplicate provider native registered\n",
      "Logged warning: Duplicate provider native registered\n",
      "Logged warning: Duplicate provider native registered\n",
      "Logged warning: Duplicate provider native registered\n",
      "Logged warning: Duplicate provider native registered\n",
      "Logged warning: Duplicate provider native registered\n",
      "Logged warning: Duplicate provider native registered\n",
      "Logged warning: Duplicate provider native registered\n",
      "Logged warning: Duplicate provider native registered\n",
      "Logged warning: Duplicate provider native registered\n",
      "Logged warning: Duplicate provider native registered\n",
      "Logged warning: Duplicate provider native registered\n",
      "Logged warning: Duplicate provider native registered\n",
      "Logged warning: Duplicate provider native registered\n",
      "Logged warning: Duplicate provider native registered\n",
      "Logged warning: Duplicate provider native registered\n",
      "Logged warning: Duplicate provider native registered\n",
      "Logged warning: Duplicate provider native registered\n",
      "Logged warning: Duplicate provider native registered\n",
      "Logged warning: Duplicate provider native registered\n",
      "Logged warning: Duplicate provider native registered\n",
      "Logged warning: Duplicate provider native registered\n",
      "Logged warning: Duplicate provider native registered\n",
      "Logged warning: Duplicate provider native registered\n",
      "Logged warning: Duplicate provider native registered\n",
      "Logged warning: Duplicate provider native registered\n",
      "Logged warning: Duplicate provider native registered\n",
      "Logged warning: Duplicate provider native registered\n",
      "Logged warning: Duplicate provider native registered\n",
      "Logged warning: Duplicate provider native registered\n",
      "Logged warning: Duplicate provider native registered\n",
      "Logged warning: Duplicate provider native registered\n",
      "Logged warning: Duplicate provider native registered\n",
      "Logged warning: Duplicate provider native registered\n",
      "Logged warning: Duplicate provider native registered\n",
      "Logged warning: Duplicate provider native registered\n",
      "Logged warning: Duplicate provider native registered\n",
      "Logged warning: Duplicate provider native registered\n",
      "Logged warning: Duplicate provider native registered\n",
      "Logged warning: Duplicate provider native registered\n",
      "Logged warning: Duplicate provider native registered\n",
      "Logged warning: Duplicate provider native registered\n",
      "Logged warning: Duplicate provider native registered\n",
      "Logged warning: Duplicate provider native registered\n",
      "Logged warning: Duplicate provider native registered\n",
      "Logged warning: Duplicate provider native registered\n",
      "Logged warning: Duplicate provider native registered\n",
      "Logged warning: Duplicate provider native registered\n",
      "Logged warning: Duplicate provider native registered\n",
      "Logged warning: Duplicate provider native registered\n",
      "Logged warning: Duplicate provider native registered\n",
      "Logged warning: Duplicate provider native registered\n",
      "Logged warning: Duplicate provider native registered\n",
      "Logged warning: Duplicate provider native registered\n",
      "Logged warning: Duplicate provider native registered\n",
      "Logged warning: Duplicate provider native registered\n",
      "Logged warning: Duplicate provider native registered\n",
      "Logged warning: Duplicate provider native registered\n",
      "Logged warning: Duplicate provider native registered\n",
      "Logged warning: Duplicate provider native registered\n",
      "Logged warning: Duplicate provider native registered\n",
      "Logged warning: Duplicate provider native registered\n",
      "Logged warning: Duplicate provider native registered\n",
      "Logged warning: Duplicate provider native registered\n",
      "Logged warning: Duplicate provider native registered\n",
      "Logged warning: Duplicate provider native registered\n",
      "Logged warning: Duplicate provider native registered\n",
      "Logged warning: Duplicate provider native registered\n",
      "Logged warning: Duplicate provider native registered\n",
      "Logged warning: Duplicate provider native registered\n",
      "Logged warning: Duplicate provider native registered\n",
      "Logged warning: Duplicate provider native registered\n",
      "Logged warning: Duplicate provider native registered\n",
      "Logged warning: Duplicate provider native registered\n",
      "Logged warning: Duplicate provider native registered\n",
      "Logged warning: Duplicate provider native registered\n",
      "Logged warning: Duplicate provider native registered\n",
      "Logged warning: Duplicate provider native registered\n",
      "Logged warning: Duplicate provider native registered\n",
      "Logged warning: Duplicate provider native registered\n",
      "Logged warning: Duplicate provider native registered\n",
      "Logged warning: Duplicate provider native registered\n",
      "Logged warning: Duplicate provider native registered\n",
      "Logged warning: Duplicate provider native registered\n",
      "Logged warning: Duplicate provider native registered\n",
      "Logged warning: Duplicate provider native registered\n",
      "Logged warning: Duplicate provider native registered\n",
      "Logged warning: Duplicate provider native registered\n",
      "Logged warning: Duplicate provider native registered\n",
      "Logged warning: Duplicate provider native registered\n",
      "Logged warning: Duplicate provider native registered\n",
      "Logged warning: Duplicate provider native registered\n",
      "Logged warning: Duplicate provider native registered\n",
      "Logged warning: Duplicate provider native registered\n",
      "Logged warning: Duplicate provider native registered\n",
      "Logged warning: Duplicate provider native registered\n",
      "Logged warning: Duplicate provider native registered\n",
      "Logged warning: Duplicate provider native registered\n",
      "Logged warning: Duplicate provider native registered\n",
      "Logged warning: Duplicate provider native registered\n",
      "Logged warning: Duplicate provider native registered\n",
      "Logged warning: Duplicate provider native registered\n",
      "Logged warning: Duplicate provider native registered\n",
      "Logged warning: Duplicate provider native registered\n",
      "Logged warning: Duplicate provider native registered\n",
      "Logged warning: Duplicate provider native registered\n",
      "Logged warning: Duplicate provider native registered\n",
      "Logged warning: Duplicate provider native registered\n",
      "Logged warning: Duplicate provider native registered\n",
      "Logged warning: Duplicate provider native registered\n",
      "Logged warning: Duplicate provider native registered\n",
      "Logged warning: Duplicate provider native registered\n",
      "Logged warning: Duplicate provider native registered\n",
      "Logged warning: Duplicate provider native registered\n",
      "Logged warning: Duplicate provider native registered\n",
      "Logged warning: Duplicate provider native registered\n",
      "Logged warning: Duplicate provider native registered\n",
      "Logged warning: Duplicate provider native registered\n",
      "Logged warning: Duplicate provider native registered\n",
      "Logged warning: Duplicate provider native registered\n"
     ]
    },
    {
     "name": "stdout",
     "output_type": "stream",
     "text": [
      "creating grid completed successfully.\n",
      "Batch grid created in 86.47321891784668 seconds for batch 654000_6061000\n",
      "creating grid completed successfully.\n",
      "Batch grid created in 87.003653049469 seconds for batch 679000_6051000\n",
      "creating grid completed successfully.\n",
      "Batch grid created in 87.4308750629425 seconds for batch 639000_5991000\n",
      "creating grid completed successfully.\n",
      "Batch grid created in 88.31591582298279 seconds for batch 679000_6001000\n",
      "NN output tile /mnt/datapool1/datapool1/datasets/nvis_outputs/NVIS_8L_fm_mape_r1_KI2020/temp/639000_5991000_nn_tile.tif does not exist, skipping.\n"
     ]
    },
    {
     "name": "stderr",
     "output_type": "stream",
     "text": [
      "batch_list:   0%|\u001b[34m          \u001b[0m| 1/465 [01:29<11:33:09, 89.63s/it]Logged warning: Duplicate provider native registered\n"
     ]
    },
    {
     "name": "stdout",
     "output_type": "stream",
     "text": [
      "creating grid completed successfully.\n",
      "Batch grid created in 90.13113260269165 seconds for batch 649000_6036000\n",
      "creating grid completed successfully.\n",
      "Batch grid created in 90.46354603767395 seconds for batch 639000_6056000\n",
      "creating grid completed successfully.\n",
      "Batch grid created in 92.23645353317261 seconds for batch 669000_6051000\n",
      "creating grid completed successfully.\n",
      "Batch grid created in 92.3455445766449 seconds for batch 644000_6046000\n",
      "creating grid completed successfully.\n",
      "Batch grid created in 92.70527625083923 seconds for batch 639000_6051000\n"
     ]
    },
    {
     "name": "stderr",
     "output_type": "stream",
     "text": [
      "batch_list:   0%|\u001b[34m          \u001b[0m| 2/465 [01:33<5:02:12, 39.16s/it] "
     ]
    },
    {
     "name": "stdout",
     "output_type": "stream",
     "text": [
      "creating grid completed successfully.\n",
      "Batch grid created in 93.61801886558533 seconds for batch 639000_6036000\n"
     ]
    },
    {
     "name": "stderr",
     "output_type": "stream",
     "text": [
      "Logged warning: Duplicate provider native registered\n",
      "Logged warning: Duplicate provider native registered\n"
     ]
    },
    {
     "name": "stdout",
     "output_type": "stream",
     "text": [
      "creating grid completed successfully.\n",
      "Batch grid created in 93.66681790351868 seconds for batch 644000_6016000\n",
      "creating grid completed successfully.\n",
      "Batch grid created in 95.03095841407776 seconds for batch 669000_6021000\n",
      "creating grid completed successfully.\n",
      "Batch grid created in 95.06870722770691 seconds for batch 684000_5991000\n",
      "creating grid completed successfully.\n",
      "Batch grid created in 95.17885494232178 seconds for batch 674000_6011000\n"
     ]
    },
    {
     "name": "stderr",
     "output_type": "stream",
     "text": [
      "batch_list:   1%|\u001b[34m          \u001b[0m| 4/465 [01:35<1:57:54, 15.35s/it]Logged warning: Duplicate provider native registered\n",
      "Logged warning: Duplicate provider native registered\n",
      "Logged warning: Duplicate provider native registered\n"
     ]
    },
    {
     "name": "stdout",
     "output_type": "stream",
     "text": [
      "NN output tile /mnt/datapool1/datapool1/datasets/nvis_outputs/NVIS_8L_fm_mape_r1_KI2020/temp/684000_5991000_nn_tile.tif does not exist, skipping.\n"
     ]
    },
    {
     "name": "stderr",
     "output_type": "stream",
     "text": [
      "batch_list:   2%|\u001b[34m▏         \u001b[0m| 7/465 [01:36<50:53,  6.67s/it]  "
     ]
    },
    {
     "name": "stdout",
     "output_type": "stream",
     "text": [
      "creating grid completed successfully.\n",
      "Batch grid created in 96.4445264339447 seconds for batch 679000_6036000\n"
     ]
    },
    {
     "name": "stderr",
     "output_type": "stream",
     "text": [
      "Logged warning: Duplicate provider native registered\n"
     ]
    },
    {
     "name": "stdout",
     "output_type": "stream",
     "text": [
      "creating grid completed successfully.\n",
      "Batch grid created in 97.06280779838562 seconds for batch 664000_6016000\n",
      "creating grid completed successfully.\n",
      "Batch grid created in 97.10782480239868 seconds for batch 649000_5991000\n",
      "creating grid completed successfully.\n",
      "Batch grid created in 97.39384770393372 seconds for batch 649000_6016000\n",
      "creating grid completed successfully.\n",
      "Batch grid created in 97.47978043556213 seconds for batch 674000_6026000\n",
      "NN output tile /mnt/datapool1/datapool1/datasets/nvis_outputs/NVIS_8L_fm_mape_r1_KI2020/temp/649000_5991000_nn_tile.tif does not exist, skipping.\n"
     ]
    },
    {
     "name": "stderr",
     "output_type": "stream",
     "text": [
      "batch_list:   2%|\u001b[34m▏         \u001b[0m| 8/465 [01:37<42:01,  5.52s/it]Logged warning: Duplicate provider native registered\n",
      "batch_list:   2%|\u001b[34m▏         \u001b[0m| 9/465 [01:37<32:18,  4.25s/it]Logged warning: Duplicate provider native registered\n",
      "Logged warning: Duplicate provider native registered\n",
      "batch_list:   2%|\u001b[34m▏         \u001b[0m| 11/465 [01:38<19:58,  2.64s/it]Logged warning: Duplicate provider native registered\n"
     ]
    },
    {
     "name": "stdout",
     "output_type": "stream",
     "text": [
      "creating grid completed successfully.\n",
      "Batch grid created in 98.65756893157959 seconds for batch 634000_6016000\n",
      "creating grid completed successfully.\n",
      "Batch grid created in 98.65898084640503 seconds for batch 669000_5991000\n",
      "creating grid completed successfully.\n",
      "Batch grid created in 98.84896302223206 seconds for batch 654000_6006000\n",
      "creating grid completed successfully.\n",
      "Batch grid created in 99.01265144348145 seconds for batch 674000_5991000\n",
      "creating grid completed successfully.\n",
      "Batch grid created in 99.16344881057739 seconds for batch 674000_6036000\n",
      "creating grid completed successfully.\n",
      "Batch grid created in 99.17534708976746 seconds for batch 679000_6061000\n",
      "creating grid completed successfully.\n",
      "Batch grid created in 99.26913285255432 seconds for batch 659000_6051000\n",
      "creating grid completed successfully.\n",
      "Batch grid created in 99.31183648109436 seconds for batch 654000_6021000\n",
      "creating grid completed successfully.\n",
      "Batch grid created in 99.36374163627625 seconds for batch 639000_6021000\n",
      "creating grid completed successfully.\n",
      "Batch grid created in 99.40016055107117 seconds for batch 679000_5991000\n",
      "NN output tile /mnt/datapool1/datapool1/datasets/nvis_outputs/NVIS_8L_fm_mape_r1_KI2020/temp/669000_5991000_nn_tile.tif does not exist, skipping.NN output tile /mnt/datapool1/datapool1/datasets/nvis_outputs/NVIS_8L_fm_mape_r1_KI2020/temp/674000_5991000_nn_tile.tif does not exist, skipping.NN output tile /mnt/datapool1/datapool1/datasets/nvis_outputs/NVIS_8L_fm_mape_r1_KI2020/temp/679000_5991000_nn_tile.tif does not exist, skipping.\n",
      "\n",
      "\n"
     ]
    },
    {
     "name": "stderr",
     "output_type": "stream",
     "text": [
      "batch_list:   3%|\u001b[34m▎         \u001b[0m| 12/465 [01:39<17:39,  2.34s/it]Logged warning: Duplicate provider native registered\n",
      "Logged warning: Duplicate provider native registered\n",
      "Logged warning: Duplicate provider native registered\n",
      "Logged warning: Duplicate provider native registered\n",
      "batch_list:   3%|\u001b[34m▎         \u001b[0m| 16/465 [01:39<07:48,  1.04s/it]Logged warning: Duplicate provider native registered\n"
     ]
    },
    {
     "name": "stdout",
     "output_type": "stream",
     "text": [
      "creating grid completed successfully.\n",
      "Batch grid created in 100.07700705528259 seconds for batch 679000_6011000\n",
      "creating grid completed successfully.\n",
      "Batch grid created in 100.20176672935486 seconds for batch 634000_6006000\n",
      "creating grid completed successfully.\n",
      "Batch grid created in 100.51423501968384 seconds for batch 644000_6026000\n",
      "creating grid completed successfully.\n",
      "Batch grid created in 100.84734463691711 seconds for batch 674000_6021000\n",
      "creating grid completed successfully.\n",
      "Batch grid created in 100.87576580047607 seconds for batch 689000_6046000\n",
      "creating grid completed successfully.\n",
      "Batch grid created in 101.23640179634094 seconds for batch 649000_5996000\n",
      "creating grid completed successfully.\n",
      "Batch grid created in 101.31318593025208 seconds for batch 649000_6041000\n",
      "creating grid completed successfully.\n",
      "Batch grid created in 101.33595108985901 seconds for batch 669000_6046000\n",
      "creating grid completed successfully.\n",
      "Batch grid created in 101.38969302177429 seconds for batch 639000_6011000\n",
      "creating grid completed successfully.\n",
      "Batch grid created in 101.33860540390015 seconds for batch 684000_6016000\n",
      "creating grid completed successfully.\n",
      "Batch grid created in 101.39342188835144 seconds for batch 669000_6056000\n",
      "creating grid completed successfully.\n",
      "Batch grid created in 101.4239490032196 seconds for batch 669000_6031000\n",
      "creating grid completed successfully.\n",
      "Batch grid created in 101.49103045463562 seconds for batch 634000_6061000\n",
      "creating grid completed successfully.\n",
      "Batch grid created in 101.48765635490417 seconds for batch 654000_5991000\n",
      "creating grid completed successfully.\n",
      "Batch grid created in 101.56524968147278 seconds for batch 634000_6051000\n",
      "creating grid completed successfully.\n",
      "Batch grid created in 101.55768203735352 seconds for batch 654000_6016000\n",
      "NN output tile /mnt/datapool1/datapool1/datasets/nvis_outputs/NVIS_8L_fm_mape_r1_KI2020/temp/649000_5996000_nn_tile.tif does not exist, skipping.NN output tile /mnt/datapool1/datapool1/datasets/nvis_outputs/NVIS_8L_fm_mape_r1_KI2020/temp/654000_5991000_nn_tile.tif does not exist, skipping.\n",
      "\n"
     ]
    },
    {
     "name": "stderr",
     "output_type": "stream",
     "text": [
      "batch_list:   4%|\u001b[34m▍         \u001b[0m| 18/465 [01:41<07:35,  1.02s/it]Logged warning: Duplicate provider native registered\n",
      "Logged warning: Duplicate provider native registered\n",
      "Logged warning: Duplicate provider native registered\n",
      "batch_list:   4%|\u001b[34m▍         \u001b[0m| 20/465 [01:41<05:32,  1.34it/s]"
     ]
    },
    {
     "name": "stdout",
     "output_type": "stream",
     "text": [
      "creating grid completed successfully.\n",
      "Batch grid created in 101.74287867546082 seconds for batch 684000_6011000\n"
     ]
    },
    {
     "name": "stderr",
     "output_type": "stream",
     "text": [
      "Logged warning: Duplicate provider native registered\n"
     ]
    },
    {
     "name": "stdout",
     "output_type": "stream",
     "text": [
      "creating grid completed successfully.\n",
      "Batch grid created in 101.93640637397766 seconds for batch 679000_6026000\n",
      "creating grid completed successfully.\n",
      "Batch grid created in 101.96834540367126 seconds for batch 674000_6006000\n",
      "creating grid completed successfully.\n",
      "Batch grid created in 102.02483916282654 seconds for batch 669000_6026000\n",
      "creating grid completed successfully.\n",
      "Batch grid created in 102.06859016418457 seconds for batch 674000_6046000\n",
      "creating grid completed successfully.\n",
      "Batch grid created in 102.14269161224365 seconds for batch 644000_6006000\n",
      "creating grid completed successfully.\n",
      "Batch grid created in 102.25701093673706 seconds for batch 664000_6056000\n",
      "creating grid completed successfully.\n",
      "Batch grid created in 102.3392322063446 seconds for batch 659000_6041000\n",
      "creating grid completed successfully.\n",
      "Batch grid created in 102.42138051986694 seconds for batch 669000_5996000\n",
      "creating grid completed successfully.\n",
      "Batch grid created in 102.4646430015564 seconds for batch 654000_6036000\n",
      "creating grid completed successfully.\n",
      "Batch grid created in 102.4859848022461 seconds for batch 684000_6006000\n",
      "creating grid completed successfully.\n",
      "Batch grid created in 102.63151574134827 seconds for batch 684000_6046000\n",
      "creating grid completed successfully.\n",
      "Batch grid created in 102.76915168762207 seconds for batch 674000_6041000\n"
     ]
    },
    {
     "name": "stderr",
     "output_type": "stream",
     "text": [
      "Logged warning: Duplicate provider native registered\n",
      "batch_list:   5%|\u001b[34m▍         \u001b[0m| 22/465 [01:42<05:03,  1.46it/s]Logged warning: Duplicate provider native registered\n",
      "Logged warning: Duplicate provider native registered\n"
     ]
    },
    {
     "name": "stdout",
     "output_type": "stream",
     "text": [
      "creating grid completed successfully.\n",
      "Batch grid created in 102.97931385040283 seconds for batch 689000_6056000\n",
      "creating grid completed successfully.\n",
      "Batch grid created in 103.0632312297821 seconds for batch 654000_6001000\n",
      "creating grid completed successfully.\n",
      "Batch grid created in 103.13318586349487 seconds for batch 639000_6026000\n",
      "creating grid completed successfully.\n",
      "Batch grid created in 103.1312518119812 seconds for batch 669000_6061000\n",
      "creating grid completed successfully.\n",
      "Batch grid created in 103.15459847450256 seconds for batch 664000_6006000\n",
      "creating grid completed successfully.\n",
      "Batch grid created in 103.19931507110596 seconds for batch 649000_6046000\n",
      "creating grid completed successfully.\n",
      "Batch grid created in 103.23562359809875 seconds for batch 639000_6061000\n",
      "creating grid completed successfully.\n",
      "Batch grid created in 103.23584699630737 seconds for batch 654000_6011000\n",
      "creating grid completed successfully.\n",
      "Batch grid created in 103.28498435020447 seconds for batch 649000_6011000\n",
      "creating grid completed successfully.\n",
      "Batch grid created in 103.31716108322144 seconds for batch 634000_6001000\n",
      "NN output tile /mnt/datapool1/datapool1/datasets/nvis_outputs/NVIS_8L_fm_mape_r1_KI2020/temp/634000_6001000_nn_tile.tif does not exist, skipping.NN output tile /mnt/datapool1/datapool1/datasets/nvis_outputs/NVIS_8L_fm_mape_r1_KI2020/temp/669000_5996000_nn_tile.tif does not exist, skipping.\n",
      "\n"
     ]
    },
    {
     "name": "stderr",
     "output_type": "stream",
     "text": [
      "batch_list:   5%|\u001b[34m▌         \u001b[0m| 24/465 [01:43<04:06,  1.79it/s]Logged warning: Duplicate provider native registered\n",
      "Logged warning: Duplicate provider native registered\n",
      "batch_list:   6%|\u001b[34m▌         \u001b[0m| 26/465 [01:43<03:04,  2.38it/s]Logged warning: Duplicate provider native registered\n",
      "Logged warning: Duplicate provider native registered\n",
      "Logged warning: Duplicate provider native registered\n"
     ]
    },
    {
     "name": "stdout",
     "output_type": "stream",
     "text": [
      "creating grid completed successfully.\n",
      "Batch grid created in 103.60317349433899 seconds for batch 679000_6031000\n"
     ]
    },
    {
     "name": "stderr",
     "output_type": "stream",
     "text": [
      "batch_list:   6%|\u001b[34m▌         \u001b[0m| 29/465 [01:43<02:00,  3.62it/s]Logged warning: Duplicate provider native registered\n"
     ]
    },
    {
     "name": "stdout",
     "output_type": "stream",
     "text": [
      "creating grid completed successfully.\n",
      "Batch grid created in 103.75352597236633 seconds for batch 644000_6051000\n",
      "creating grid completed successfully.\n",
      "Batch grid created in 103.78384685516357 seconds for batch 644000_6011000\n",
      "creating grid completed successfully.\n",
      "Batch grid created in 103.80245327949524 seconds for batch 684000_6051000\n",
      "creating grid completed successfully.\n",
      "Batch grid created in 103.84196209907532 seconds for batch 689000_6011000\n",
      "creating grid completed successfully.\n",
      "Batch grid created in 103.9043619632721 seconds for batch 664000_6046000\n",
      "creating grid completed successfully.\n",
      "Batch grid created in 103.96914005279541 seconds for batch 639000_5996000\n",
      "creating grid completed successfully.\n",
      "Batch grid created in 104.02697110176086 seconds for batch 659000_6036000\n",
      "creating grid completed successfully.\n",
      "Batch grid created in 104.01215815544128 seconds for batch 684000_5996000\n",
      "creating grid completed successfully.\n",
      "Batch grid created in 104.058109998703 seconds for batch 684000_6041000\n",
      "creating grid completed successfully.\n",
      "Batch grid created in 104.17793726921082 seconds for batch 684000_6036000\n",
      "creating grid completed successfully.\n",
      "Batch grid created in 104.27446961402893 seconds for batch 649000_6031000\n"
     ]
    },
    {
     "name": "stderr",
     "output_type": "stream",
     "text": [
      "Logged warning: Duplicate provider native registered\n",
      "batch_list:   7%|\u001b[34m▋         \u001b[0m| 31/465 [01:44<02:05,  3.46it/s]"
     ]
    },
    {
     "name": "stdout",
     "output_type": "stream",
     "text": [
      "creating grid completed successfully."
     ]
    },
    {
     "name": "stderr",
     "output_type": "stream",
     "text": [
      "Logged warning: Duplicate provider native registered\n"
     ]
    },
    {
     "name": "stdout",
     "output_type": "stream",
     "text": [
      "\n",
      "Batch grid created in 104.36922597885132 seconds for batch 644000_6036000\n",
      "creating grid completed successfully.\n",
      "Batch grid created in 104.41848850250244 seconds for batch 674000_6051000\n",
      "creating grid completed successfully.\n",
      "Batch grid created in 104.48676896095276 seconds for batch 674000_6056000\n"
     ]
    },
    {
     "name": "stderr",
     "output_type": "stream",
     "text": [
      "Logged warning: Duplicate provider native registered\n",
      "Logged warning: Duplicate provider native registered\n"
     ]
    },
    {
     "name": "stdout",
     "output_type": "stream",
     "text": [
      "creating grid completed successfully.\n",
      "Batch grid created in 104.55517530441284 seconds for batch 649000_6026000\n",
      "creating grid completed successfully.\n",
      "Batch grid created in 104.58866548538208 seconds for batch 654000_6031000\n"
     ]
    },
    {
     "name": "stderr",
     "output_type": "stream",
     "text": [
      "batch_list:   7%|\u001b[34m▋         \u001b[0m| 34/465 [01:44<01:33,  4.60it/s]"
     ]
    },
    {
     "name": "stdout",
     "output_type": "stream",
     "text": [
      "creating grid completed successfully.\n",
      "Batch grid created in 104.56947827339172 seconds for batch 689000_6016000\n",
      "creating grid completed successfully.\n",
      "Batch grid created in 104.63259148597717 seconds for batch 659000_6026000\n"
     ]
    },
    {
     "name": "stderr",
     "output_type": "stream",
     "text": [
      "Logged warning: Duplicate provider native registered\n"
     ]
    },
    {
     "name": "stdout",
     "output_type": "stream",
     "text": [
      "creating grid completed successfully.\n",
      "Batch grid created in 104.81777310371399 seconds for batch 669000_6011000\n",
      "creating grid completed successfully.\n",
      "Batch grid created in 104.94876432418823 seconds for batch 649000_6061000\n",
      "creating grid completed successfully.\n",
      "Batch grid created in 104.91837215423584 seconds for batch 684000_6026000\n",
      "creating grid completed successfully.\n",
      "Batch grid created in 104.96706008911133 seconds for batch 684000_6056000\n",
      "creating grid completed successfully.\n",
      "Batch grid created in 105.00588846206665 seconds for batch 664000_6026000\n",
      "creating grid completed successfully.\n",
      "Batch grid created in 105.02027463912964 seconds for batch 659000_6056000\n",
      "creating grid completed successfully.\n",
      "Batch grid created in 105.05689406394958 seconds for batch 639000_6041000\n",
      "creating grid completed successfully.\n",
      "creating grid completed successfully.Batch grid created in 105.08527326583862 seconds for batch 649000_6006000\n",
      "\n",
      "Batch grid created in 105.10733938217163 seconds for batch 634000_6026000\n",
      "creating grid completed successfully.\n",
      "Batch grid created in 105.1120331287384 seconds for batch 634000_6011000\n",
      "creating grid completed successfully.\n",
      "Batch grid created in 105.11070537567139 seconds for batch 654000_6026000creating grid completed successfully.\n",
      "\n",
      "Batch grid created in 105.10386300086975 seconds for batch 664000_6036000\n",
      "creating grid completed successfully.\n",
      "Batch grid created in 105.11513423919678 seconds for batch 669000_6006000\n",
      "NN output tile /mnt/datapool1/datapool1/datasets/nvis_outputs/NVIS_8L_fm_mape_r1_KI2020/temp/684000_5996000_nn_tile.tif does not exist, skipping.NN output tile /mnt/datapool1/datapool1/datasets/nvis_outputs/NVIS_8L_fm_mape_r1_KI2020/temp/639000_5996000_nn_tile.tif does not exist, skipping.\n",
      "\n"
     ]
    },
    {
     "name": "stderr",
     "output_type": "stream",
     "text": [
      "batch_list:   8%|\u001b[34m▊         \u001b[0m| 35/465 [01:45<02:05,  3.44it/s]Logged warning: Duplicate provider native registered\n",
      "Logged warning: Duplicate provider native registered\n",
      "Logged warning: Duplicate provider native registered\n",
      "Logged warning: Duplicate provider native registered\n",
      "batch_list:   8%|\u001b[34m▊         \u001b[0m| 39/465 [01:45<01:19,  5.34it/s]"
     ]
    },
    {
     "name": "stdout",
     "output_type": "stream",
     "text": [
      "creating grid completed successfully.\n",
      "Batch grid created in 105.71530055999756 seconds for batch 689000_6061000\n"
     ]
    },
    {
     "name": "stderr",
     "output_type": "stream",
     "text": [
      "Logged warning: Duplicate provider native registered\n",
      "Logged warning: Duplicate provider native registered\n"
     ]
    },
    {
     "name": "stdout",
     "output_type": "stream",
     "text": [
      "creating grid completed successfully.\n",
      "Batch grid created in 105.8566734790802 seconds for batch 639000_6006000\n",
      "creating grid completed successfully.\n",
      "Batch grid created in 105.8869001865387 seconds for batch 654000_6046000\n",
      "creating grid completed successfully.\n",
      "Batch grid created in 105.88597774505615 seconds for batch 679000_6041000\n",
      "creating grid completed successfully.\n",
      "Batch grid created in 105.96060276031494 seconds for batch 659000_6011000\n",
      "creating grid completed successfully.\n",
      "Batch grid created in 106.01503682136536 seconds for batch 659000_6001000\n"
     ]
    },
    {
     "name": "stderr",
     "output_type": "stream",
     "text": [
      "batch_list:   9%|\u001b[34m▉         \u001b[0m| 41/465 [01:46<01:24,  5.00it/s]"
     ]
    },
    {
     "name": "stdout",
     "output_type": "stream",
     "text": [
      "creating grid completed successfully.\n",
      "Batch grid created in 106.0808675289154 seconds for batch 664000_6001000\n",
      "creating grid completed successfully.\n",
      "Batch grid created in 106.12726259231567 seconds for batch 679000_6016000\n",
      "creating grid completed successfully.\n",
      "Batch grid created in 106.14850735664368 seconds for batch 674000_5996000\n"
     ]
    },
    {
     "name": "stderr",
     "output_type": "stream",
     "text": [
      "Logged warning: Duplicate provider native registered\n",
      "Logged warning: Duplicate provider native registered\n",
      "batch_list:   9%|\u001b[34m▉         \u001b[0m| 43/465 [01:46<01:12,  5.83it/s]Logged warning: Duplicate provider native registered\n"
     ]
    },
    {
     "name": "stdout",
     "output_type": "stream",
     "text": [
      "creating grid completed successfully.\n",
      "Batch grid created in 106.30790281295776 seconds for batch 679000_6056000\n"
     ]
    },
    {
     "name": "stderr",
     "output_type": "stream",
     "text": [
      "Logged warning: Duplicate provider native registered\n",
      "Logged warning: Duplicate provider native registered\n"
     ]
    },
    {
     "name": "stdout",
     "output_type": "stream",
     "text": [
      "creating grid completed successfully.\n",
      "Batch grid created in 106.45296835899353 seconds for batch 644000_6001000\n"
     ]
    },
    {
     "name": "stderr",
     "output_type": "stream",
     "text": [
      "batch_list:  10%|\u001b[34m▉         \u001b[0m| 46/465 [01:46<00:56,  7.38it/s]"
     ]
    },
    {
     "name": "stdout",
     "output_type": "stream",
     "text": [
      "creating grid completed successfully.\n",
      "Batch grid created in 106.48457431793213 seconds for batch 634000_6041000\n"
     ]
    },
    {
     "name": "stderr",
     "output_type": "stream",
     "text": [
      "Logged warning: Duplicate provider native registered\n",
      "Logged warning: Duplicate provider native registered\n"
     ]
    },
    {
     "name": "stdout",
     "output_type": "stream",
     "text": [
      "creating grid completed successfully.\n",
      "Batch grid created in 106.4605176448822 seconds for batch 669000_6016000\n",
      "creating grid completed successfully.\n",
      "Batch grid created in 106.44795298576355 seconds for batch 684000_6021000\n",
      "creating grid completed successfully.creating grid completed successfully.\n",
      "\n",
      "Batch grid created in 106.5050916671753 seconds for batch 664000_5996000Batch grid created in 106.47485184669495 seconds for batch 689000_6031000\n",
      "\n",
      "creating grid completed successfully.\n",
      "Batch grid created in 106.50966358184814 seconds for batch 684000_6031000\n",
      "creating grid completed successfully.\n",
      "Batch grid created in 106.55027341842651 seconds for batch 659000_6021000\n",
      "creating grid completed successfully.\n",
      "Batch grid created in 106.55376863479614 seconds for batch 679000_6046000\n",
      "creating grid completed successfully.\n",
      "Batch grid created in 106.56321239471436 seconds for batch 674000_6001000\n",
      "creating grid completed successfully.\n",
      "Batch grid created in 106.56542420387268 seconds for batch 689000_6036000creating grid completed successfully.\n",
      "\n",
      "Batch grid created in 106.58046054840088 seconds for batch 679000_5996000\n",
      "creating grid completed successfully.\n",
      "Batch grid created in 106.60359263420105 seconds for batch 669000_6001000\n",
      "creating grid completed successfully.\n",
      "Batch grid created in 106.60748720169067 seconds for batch 679000_6006000\n",
      "creating grid completed successfully.\n",
      "Batch grid created in 106.61422348022461 seconds for batch 689000_6041000\n",
      "creating grid completed successfully.\n",
      "Batch grid created in 106.69142270088196 seconds for batch 644000_6056000\n",
      "creating grid completed successfully.creating grid completed successfully.\n",
      "\n",
      "Batch grid created in 106.67624735832214 seconds for batch 664000_6051000Batch grid created in 106.64267373085022 seconds for batch 684000_6001000\n",
      "\n",
      "creating grid completed successfully.\n",
      "Batch grid created in 106.67677307128906 seconds for batch 664000_5991000\n",
      "creating grid completed successfully.\n",
      "Batch grid created in 106.68645572662354 seconds for batch 674000_6031000creating grid completed successfully.\n",
      "\n",
      "Batch grid created in 106.72131156921387 seconds for batch 654000_6056000\n",
      "creating grid completed successfully.\n",
      "\n",
      "Batch grid created in 106.69788956642151 seconds for batch 674000_6061000creating grid completed successfully.\n",
      "Batch grid created in 106.72811675071716 seconds for batch 659000_6006000\n",
      "NN output tile /mnt/datapool1/datapool1/datasets/nvis_outputs/NVIS_8L_fm_mape_r1_KI2020/temp/664000_5996000_nn_tile.tif does not exist, skipping.NN output tile /mnt/datapool1/datapool1/datasets/nvis_outputs/NVIS_8L_fm_mape_r1_KI2020/temp/679000_5996000_nn_tile.tif does not exist, skipping.NN output tile /mnt/datapool1/datapool1/datasets/nvis_outputs/NVIS_8L_fm_mape_r1_KI2020/temp/674000_5996000_nn_tile.tif does not exist, skipping.\n",
      "NN output tile /mnt/datapool1/datapool1/datasets/nvis_outputs/NVIS_8L_fm_mape_r1_KI2020/temp/664000_5991000_nn_tile.tif does not exist, skipping.\n",
      "\n"
     ]
    },
    {
     "name": "stderr",
     "output_type": "stream",
     "text": [
      "batch_list:  10%|\u001b[34m█         \u001b[0m| 48/465 [01:46<01:02,  6.70it/s]Logged warning: Duplicate provider native registered\n",
      "Logged warning: Duplicate provider native registered\n"
     ]
    },
    {
     "name": "stdout",
     "output_type": "stream",
     "text": [
      "\n"
     ]
    },
    {
     "name": "stderr",
     "output_type": "stream",
     "text": [
      "Logged warning: Duplicate provider native registered\n",
      "Logged warning: Duplicate provider native registered\n",
      "batch_list:  11%|\u001b[34m█         \u001b[0m| 52/465 [01:47<00:42,  9.63it/s]Logged warning: Duplicate provider native registered\n"
     ]
    },
    {
     "name": "stdout",
     "output_type": "stream",
     "text": [
      "creating grid completed successfully.\n",
      "Batch grid created in 107.1210618019104 seconds for batch 664000_6031000\n",
      "creating grid completed successfully.\n",
      "Batch grid created in 107.1609616279602 seconds for batch 654000_6041000\n"
     ]
    },
    {
     "name": "stderr",
     "output_type": "stream",
     "text": [
      "Logged warning: Duplicate provider native registered\n",
      "batch_list:  12%|\u001b[34m█▏        \u001b[0m| 54/465 [01:47<00:42,  9.74it/s]Logged warning: Duplicate provider native registered\n",
      "Logged warning: Duplicate provider native registered\n",
      "Logged warning: Duplicate provider native registered\n"
     ]
    },
    {
     "name": "stdout",
     "output_type": "stream",
     "text": [
      "creating grid completed successfully.\n",
      "Batch grid created in 107.2661554813385 seconds for batch 659000_5991000\n",
      "creating grid completed successfully.\n",
      "Batch grid created in 107.33996272087097 seconds for batch 634000_6031000\n",
      "creating grid completed successfully.\n",
      "Batch grid created in 107.39095067977905 seconds for batch 659000_6061000\n"
     ]
    },
    {
     "name": "stderr",
     "output_type": "stream",
     "text": [
      "batch_list:  12%|\u001b[34m█▏        \u001b[0m| 57/465 [01:47<00:37, 10.78it/s]"
     ]
    },
    {
     "name": "stdout",
     "output_type": "stream",
     "text": [
      "creating grid completed successfully.\n",
      "Batch grid created in 107.40192651748657 seconds for batch 674000_6016000\n"
     ]
    },
    {
     "name": "stderr",
     "output_type": "stream",
     "text": [
      "Logged warning: Duplicate provider native registered\n",
      "Logged warning: Duplicate provider native registered\n"
     ]
    },
    {
     "name": "stdout",
     "output_type": "stream",
     "text": [
      "creating grid completed successfully.\n",
      "Batch grid created in 107.45842695236206 seconds for batch 664000_6041000\n",
      "creating grid completed successfully.\n",
      "Batch grid created in 107.54613709449768 seconds for batch 659000_6031000\n",
      "creating grid completed successfully.\n",
      "Batch grid created in 107.59150815010071 seconds for batch 649000_6056000\n",
      "creating grid completed successfully.\n",
      "Batch grid created in 107.60227346420288 seconds for batch 659000_6016000\n",
      "creating grid completed successfully.\n",
      "Batch grid created in 107.62264251708984 seconds for batch 689000_6021000\n",
      "creating grid completed successfully.\n",
      "Batch grid created in 107.71103024482727 seconds for batch 644000_6021000\n"
     ]
    },
    {
     "name": "stderr",
     "output_type": "stream",
     "text": [
      "batch_list:  13%|\u001b[34m█▎        \u001b[0m| 59/465 [01:47<00:44,  9.21it/s]"
     ]
    },
    {
     "name": "stdout",
     "output_type": "stream",
     "text": [
      "creating grid completed successfully.\n",
      "Batch grid created in 107.7592556476593 seconds for batch 639000_6016000\n",
      "creating grid completed successfully.\n",
      "Batch grid created in 107.80563831329346 seconds for batch 634000_6036000\n",
      "creating grid completed successfully.\n",
      "creating grid completed successfully.Batch grid created in 107.79408645629883 seconds for batch 649000_6021000\n",
      "\n",
      "Batch grid created in 107.81070017814636 seconds for batch 634000_5996000\n",
      "creating grid completed successfully.\n",
      "Batch grid created in 107.8296115398407 seconds for batch 639000_6046000\n",
      "creating grid completed successfully.\n",
      "Batch grid created in 107.81987619400024 seconds for batch 669000_6041000\n",
      "creating grid completed successfully.\n",
      "Batch grid created in 107.86682724952698 seconds for batch 644000_6031000\n",
      "creating grid completed successfully.\n",
      "Batch grid created in 107.867440700531 seconds for batch 649000_6001000\n",
      "creating grid completed successfully.\n",
      "Batch grid created in 107.87454843521118 seconds for batch 654000_5996000\n",
      "creating grid completed successfully.\n",
      "Batch grid created in 107.92468166351318 seconds for batch 634000_6056000\n"
     ]
    },
    {
     "name": "stderr",
     "output_type": "stream",
     "text": [
      "Logged warning: Duplicate provider native registered\n"
     ]
    },
    {
     "name": "stdout",
     "output_type": "stream",
     "text": [
      "creating grid completed successfully.\n",
      "Batch grid created in 107.93401336669922 seconds for batch 654000_6051000\n",
      "creating grid completed successfully.creating grid completed successfully.\n",
      "\n",
      "Batch grid created in 107.93425178527832 seconds for batch 659000_6046000Batch grid created in 107.96324896812439 seconds for batch 634000_6021000\n",
      "\n"
     ]
    },
    {
     "name": "stderr",
     "output_type": "stream",
     "text": [
      "Logged warning: Duplicate provider native registered\n",
      "batch_list:  13%|\u001b[34m█▎        \u001b[0m| 61/465 [01:48<00:54,  7.40it/s]Logged warning: Duplicate provider native registered\n",
      "Logged warning: Duplicate provider native registered\n",
      "Logged warning: Duplicate provider native registered\n",
      "Logged warning: Duplicate provider native registered\n",
      "Logged warning: Duplicate provider native registered\n",
      "Logged warning: Duplicate provider native registered\n",
      "Logged warning: Duplicate provider native registered\n",
      "batch_list:  15%|\u001b[34m█▍        \u001b[0m| 68/465 [01:48<00:27, 14.56it/s]"
     ]
    },
    {
     "name": "stdout",
     "output_type": "stream",
     "text": [
      "NN output tile /mnt/datapool1/datapool1/datasets/nvis_outputs/NVIS_8L_fm_mape_r1_KI2020/temp/634000_5996000_nn_tile.tif does not exist, skipping.NN output tile /mnt/datapool1/datapool1/datasets/nvis_outputs/NVIS_8L_fm_mape_r1_KI2020/temp/659000_5991000_nn_tile.tif does not exist, skipping.NN output tile /mnt/datapool1/datapool1/datasets/nvis_outputs/NVIS_8L_fm_mape_r1_KI2020/temp/654000_5996000_nn_tile.tif does not exist, skipping.\n",
      "\n",
      "\n"
     ]
    },
    {
     "name": "stderr",
     "output_type": "stream",
     "text": [
      "Logged warning: Duplicate provider native registered\n",
      "Logged warning: Duplicate provider native registered\n",
      "Logged warning: Duplicate provider native registered\n",
      "Logged warning: Duplicate provider native registered\n",
      "Logged warning: Duplicate provider native registered\n",
      "Logged warning: Duplicate provider native registered\n",
      "Logged warning: Duplicate provider native registered\n",
      "Logged warning: Duplicate provider native registered\n",
      "batch_list:  16%|\u001b[34m█▋        \u001b[0m| 76/465 [01:48<00:17, 21.89it/s]Logged warning: Duplicate provider native registered\n",
      "Logged warning: Duplicate provider native registered\n",
      "Logged warning: Duplicate provider native registered\n",
      "Logged warning: Duplicate provider native registered\n",
      "batch_list:  17%|\u001b[34m█▋        \u001b[0m| 80/465 [01:48<00:15, 24.73it/s]Logged warning: Duplicate provider native registered\n",
      "Logged warning: Duplicate provider native registered\n",
      "Logged warning: Duplicate provider native registered\n",
      "Logged warning: Duplicate provider native registered\n",
      "Logged warning: Duplicate provider native registered\n",
      "batch_list:  18%|\u001b[34m█▊        \u001b[0m| 85/465 [01:48<00:12, 29.27it/s]Logged warning: Duplicate provider native registered\n",
      "Logged warning: Duplicate provider native registered\n",
      "Logged warning: Duplicate provider native registered\n"
     ]
    },
    {
     "name": "stdout",
     "output_type": "stream",
     "text": [
      "creating grid completed successfully.\n",
      "Batch grid created in 108.69128012657166 seconds for batch 669000_6036000\n"
     ]
    },
    {
     "name": "stderr",
     "output_type": "stream",
     "text": [
      "Logged warning: Duplicate provider native registered\n",
      "batch_list:  19%|\u001b[34m█▉        \u001b[0m| 89/465 [01:48<00:12, 30.77it/s]Logged warning: Duplicate provider native registered\n",
      "Logged warning: Duplicate provider native registered\n",
      "Logged warning: Duplicate provider native registered\n",
      "Logged warning: Duplicate provider native registered\n",
      "batch_list:  20%|\u001b[34m██        \u001b[0m| 93/465 [01:48<00:11, 31.18it/s]Logged warning: Duplicate provider native registered\n",
      "Logged warning: Duplicate provider native registered\n",
      "Logged warning: Duplicate provider native registered\n",
      "Logged warning: Duplicate provider native registered\n",
      "Logged warning: Duplicate provider native registered\n",
      "batch_list:  21%|\u001b[34m██        \u001b[0m| 98/465 [01:49<00:10, 34.27it/s]Logged warning: Duplicate provider native registered\n",
      "Logged warning: Duplicate provider native registered\n",
      "Logged warning: Duplicate provider native registered\n",
      "Logged warning: Duplicate provider native registered\n",
      "Logged warning: Duplicate provider native registered\n",
      "Logged warning: Duplicate provider native registered\n",
      "Logged warning: Duplicate provider native registered\n",
      "batch_list:  23%|\u001b[34m██▎       \u001b[0m| 105/465 [01:49<00:08, 42.46it/s]Logged warning: Duplicate provider native registered\n",
      "Logged warning: Duplicate provider native registered\n",
      "Logged warning: Duplicate provider native registered\n"
     ]
    },
    {
     "name": "stdout",
     "output_type": "stream",
     "text": [
      "creating grid completed successfully.\n",
      "Batch grid created in 109.15399813652039 seconds for batch 644000_6061000\n",
      "creating grid completed successfully.\n",
      "Batch grid created in 109.15499329566956 seconds for batch 644000_5991000\n",
      "creating grid completed successfully.\n",
      "Batch grid created in 109.19083619117737 seconds for batch 649000_6051000\n",
      "creating grid completed successfully.\n",
      "Batch grid created in 109.15916728973389 seconds for batch 684000_6061000\n",
      "creating grid completed successfully.\n",
      "Batch grid created in 109.18934845924377 seconds for batch 664000_6021000\n",
      "creating grid completed successfully.\n",
      "Batch grid created in 109.23425340652466 seconds for batch 639000_6031000\n",
      "creating grid completed successfully.\n",
      "Batch grid created in 109.1760733127594 seconds for batch 689000_6026000creating grid completed successfully.\n",
      "\n",
      "Batch grid created in 109.24723792076111 seconds for batch 639000_6001000creating grid completed successfully.\n",
      "\n",
      "Batch grid created in 109.22232007980347 seconds for batch 664000_6011000\n",
      "creating grid completed successfully.\n",
      "Batch grid created in 109.28469944000244 seconds for batch 634000_5991000\n",
      "NN output tile /mnt/datapool1/datapool1/datasets/nvis_outputs/NVIS_8L_fm_mape_r1_KI2020/temp/634000_5991000_nn_tile.tif does not exist, skipping.NN output tile /mnt/datapool1/datapool1/datasets/nvis_outputs/NVIS_8L_fm_mape_r1_KI2020/temp/639000_6001000_nn_tile.tif does not exist, skipping.NN output tile /mnt/datapool1/datapool1/datasets/nvis_outputs/NVIS_8L_fm_mape_r1_KI2020/temp/644000_5991000_nn_tile.tif does not exist, skipping.\n",
      "\n",
      "\n"
     ]
    },
    {
     "name": "stderr",
     "output_type": "stream",
     "text": [
      "batch_list:  24%|\u001b[34m██▎       \u001b[0m| 110/465 [01:49<00:12, 28.11it/s]"
     ]
    },
    {
     "name": "stdout",
     "output_type": "stream",
     "text": [
      "creating grid completed successfully.\n",
      "Batch grid created in 109.48898649215698 seconds for batch 689000_6051000\n"
     ]
    },
    {
     "name": "stderr",
     "output_type": "stream",
     "text": [
      "Logged warning: Duplicate provider native registered\n",
      "Logged warning: Duplicate provider native registered\n",
      "Logged warning: Duplicate provider native registered\n",
      "Logged warning: Duplicate provider native registered\n",
      "Logged warning: Duplicate provider native registered\n",
      "Logged warning: Duplicate provider native registered\n",
      "batch_list:  25%|\u001b[34m██▍       \u001b[0m| 114/465 [01:49<00:16, 21.19it/s]Logged warning: Duplicate provider native registered\n",
      "Logged warning: Duplicate provider native registered\n",
      "Logged warning: Duplicate provider native registered\n",
      "Logged warning: Duplicate provider native registered\n",
      "Logged warning: Duplicate provider native registered\n",
      "batch_list:  26%|\u001b[34m██▌       \u001b[0m| 119/465 [01:49<00:14, 24.59it/s]Logged warning: Duplicate provider native registered\n",
      "Logged warning: Duplicate provider native registered\n",
      "Logged warning: Duplicate provider native registered\n",
      "Logged warning: Duplicate provider native registered\n",
      "batch_list:  26%|\u001b[34m██▋       \u001b[0m| 123/465 [01:50<00:24, 13.80it/s]Logged warning: Duplicate provider native registered\n",
      "Logged warning: Duplicate provider native registered\n",
      "Logged warning: Duplicate provider native registered\n",
      "batch_list:  27%|\u001b[34m██▋       \u001b[0m| 126/465 [01:50<00:21, 15.49it/s]Logged warning: Duplicate provider native registered\n",
      "Logged warning: Duplicate provider native registered\n",
      "Logged warning: Duplicate provider native registered\n",
      "Logged warning: Duplicate provider native registered\n",
      "batch_list:  28%|\u001b[34m██▊       \u001b[0m| 130/465 [01:50<00:18, 18.18it/s]Logged warning: Duplicate provider native registered\n",
      "Logged warning: Duplicate provider native registered\n",
      "Logged warning: Duplicate provider native registered\n",
      "Logged warning: Duplicate provider native registered\n",
      "batch_list:  29%|\u001b[34m██▉       \u001b[0m| 134/465 [01:50<00:15, 21.63it/s]Logged warning: Duplicate provider native registered\n",
      "Logged warning: Duplicate provider native registered\n",
      "Logged warning: Duplicate provider native registered\n",
      "Logged warning: Duplicate provider native registered\n",
      "Logged warning: Duplicate provider native registered\n"
     ]
    },
    {
     "name": "stdout",
     "output_type": "stream",
     "text": [
      "creating grid completed successfully.\n",
      "Batch grid created in 110.96326756477356 seconds for batch 664000_6061000\n"
     ]
    },
    {
     "name": "stderr",
     "output_type": "stream",
     "text": [
      "batch_list:  30%|\u001b[34m██▉       \u001b[0m| 139/465 [01:51<00:13, 24.26it/s]"
     ]
    },
    {
     "name": "stdout",
     "output_type": "stream",
     "text": [
      "creating grid completed successfully.\n",
      "Batch grid created in 111.06109642982483 seconds for batch 644000_6041000\n",
      "creating grid completed successfully.\n",
      "Batch grid created in 111.07106757164001 seconds for batch 644000_5996000\n"
     ]
    },
    {
     "name": "stderr",
     "output_type": "stream",
     "text": [
      "Logged warning: Duplicate provider native registered\n"
     ]
    },
    {
     "name": "stdout",
     "output_type": "stream",
     "text": [
      "NN output tile /mnt/datapool1/datapool1/datasets/nvis_outputs/NVIS_8L_fm_mape_r1_KI2020/temp/644000_5996000_nn_tile.tif does not exist, skipping.\n"
     ]
    },
    {
     "name": "stderr",
     "output_type": "stream",
     "text": [
      "Logged warning: Duplicate provider native registered\n",
      "Logged warning: Duplicate provider native registered\n",
      "Logged warning: Duplicate provider native registered\n",
      "batch_list:  31%|\u001b[34m███       \u001b[0m| 143/465 [01:51<00:19, 16.34it/s]"
     ]
    },
    {
     "name": "stdout",
     "output_type": "stream",
     "text": [
      "creating grid completed successfully.\n",
      "Batch grid created in 111.50658226013184 seconds for batch 634000_6046000\n"
     ]
    },
    {
     "name": "stderr",
     "output_type": "stream",
     "text": [
      "Logged warning: Duplicate provider native registered\n",
      "Logged warning: Duplicate provider native registered\n",
      "Logged warning: Duplicate provider native registered\n",
      "batch_list:  31%|\u001b[34m███▏      \u001b[0m| 146/465 [01:51<00:26, 11.89it/s]Logged warning: Duplicate provider native registered\n",
      "Logged warning: Duplicate provider native registered\n",
      "Logged warning: Duplicate provider native registered\n",
      "Logged warning: Duplicate provider native registered\n",
      "Logged warning: Duplicate provider native registered\n",
      "batch_list:  32%|\u001b[34m███▏      \u001b[0m| 151/465 [01:52<00:19, 16.15it/s]Logged warning: Duplicate provider native registered\n",
      "Logged warning: Duplicate provider native registered\n",
      "Logged warning: Duplicate provider native registered\n",
      "Logged warning: Duplicate provider native registered\n",
      "Logged warning: Duplicate provider native registered\n",
      "batch_list:  34%|\u001b[34m███▎      \u001b[0m| 156/465 [01:52<00:14, 20.70it/s]Logged warning: Duplicate provider native registered\n",
      "Logged warning: Duplicate provider native registered\n",
      "Logged warning: Duplicate provider native registered\n",
      "Logged warning: Duplicate provider native registered\n",
      "Logged warning: Duplicate provider native registered\n",
      "Logged warning: Duplicate provider native registered\n",
      "batch_list:  35%|\u001b[34m███▍      \u001b[0m| 162/465 [01:52<00:19, 15.46it/s]Logged warning: Duplicate provider native registered\n",
      "Logged warning: Duplicate provider native registered\n",
      "Logged warning: Duplicate provider native registered\n",
      "batch_list:  35%|\u001b[34m███▌      \u001b[0m| 165/465 [01:53<00:20, 14.50it/s]Logged warning: Duplicate provider native registered\n",
      "Logged warning: Duplicate provider native registered\n",
      "Logged warning: Duplicate provider native registered\n",
      "Logged warning: Duplicate provider native registered\n",
      "Logged warning: Duplicate provider native registered\n",
      "batch_list:  37%|\u001b[34m███▋      \u001b[0m| 170/465 [01:53<00:15, 18.60it/s]"
     ]
    },
    {
     "name": "stdout",
     "output_type": "stream",
     "text": [
      "creating grid completed successfully.\n",
      "Batch grid created in 113.10025763511658 seconds for batch 659000_5996000\n"
     ]
    },
    {
     "name": "stderr",
     "output_type": "stream",
     "text": [
      "Logged warning: Duplicate provider native registered\n"
     ]
    },
    {
     "name": "stdout",
     "output_type": "stream",
     "text": [
      "NN output tile /mnt/datapool1/datapool1/datasets/nvis_outputs/NVIS_8L_fm_mape_r1_KI2020/temp/659000_5996000_nn_tile.tif does not exist, skipping.\n"
     ]
    },
    {
     "name": "stderr",
     "output_type": "stream",
     "text": [
      "Logged warning: Duplicate provider native registered\n",
      "Logged warning: Duplicate provider native registered\n",
      "batch_list:  37%|\u001b[34m███▋      \u001b[0m| 173/465 [01:53<00:28, 10.26it/s]Logged warning: Duplicate provider native registered\n",
      "Logged warning: Duplicate provider native registered\n",
      "Logged warning: Duplicate provider native registered\n",
      "batch_list:  38%|\u001b[34m███▊      \u001b[0m| 175/465 [02:08<00:28, 10.26it/s]"
     ]
    },
    {
     "name": "stdout",
     "output_type": "stream",
     "text": [
      "creating grid completed successfully.\n",
      "Batch grid created in 128.23295855522156 seconds for batch 679000_6021000\n"
     ]
    },
    {
     "name": "stderr",
     "output_type": "stream",
     "text": [
      "batch_list:  38%|\u001b[34m███▊      \u001b[0m| 176/465 [02:09<06:30,  1.35s/it]Logged warning: Duplicate provider native registered\n"
     ]
    },
    {
     "name": "stdout",
     "output_type": "stream",
     "text": [
      "creating grid completed successfully.\n",
      "Batch grid created in 43.072017431259155 seconds for batch 694000_6026000\n",
      "creating grid completed successfully.\n",
      "Batch grid created in 47.96920156478882 seconds for batch 689000_5991000\n"
     ]
    },
    {
     "name": "stderr",
     "output_type": "stream",
     "text": [
      "Logged warning: Duplicate provider native registered\n",
      "batch_list:  38%|\u001b[34m███▊      \u001b[0m| 177/465 [02:23<12:45,  2.66s/it]"
     ]
    },
    {
     "name": "stdout",
     "output_type": "stream",
     "text": [
      "NN output tile /mnt/datapool1/datapool1/datasets/nvis_outputs/NVIS_8L_fm_mape_r1_KI2020/temp/689000_5991000_nn_tile.tif does not exist, skipping.\n"
     ]
    },
    {
     "name": "stderr",
     "output_type": "stream",
     "text": [
      "batch_list:  38%|\u001b[34m███▊      \u001b[0m| 178/465 [02:24<11:38,  2.43s/it]Logged warning: Duplicate provider native registered\n"
     ]
    },
    {
     "name": "stdout",
     "output_type": "stream",
     "text": [
      "creating grid completed successfully.\n",
      "Batch grid created in 62.70201897621155 seconds for batch 689000_6001000\n"
     ]
    },
    {
     "name": "stderr",
     "output_type": "stream",
     "text": [
      "Logged warning: Duplicate provider native registered\n",
      "batch_list:  38%|\u001b[34m███▊      \u001b[0m| 179/465 [02:38<11:36,  2.43s/it]"
     ]
    },
    {
     "name": "stdout",
     "output_type": "stream",
     "text": [
      "creating grid completed successfully.\n",
      "Batch grid created in 63.557122230529785 seconds for batch 694000_6056000\n"
     ]
    },
    {
     "name": "stderr",
     "output_type": "stream",
     "text": [
      "batch_list:  39%|\u001b[34m███▊      \u001b[0m| 180/465 [02:40<18:16,  3.85s/it]Logged warning: Duplicate provider native registered\n"
     ]
    },
    {
     "name": "stdout",
     "output_type": "stream",
     "text": [
      "creating grid completed successfully.\n",
      "Batch grid created in 84.50012397766113 seconds for batch 689000_6006000\n",
      "creating grid completed successfully.\n",
      "Batch grid created in 70.26927042007446 seconds for batch 709000_6036000\n",
      "creating grid completed successfully.\n",
      "Batch grid created in 69.0853283405304 seconds for batch 719000_6011000\n",
      "creating grid completed successfully.\n",
      "Batch grid created in 69.82484650611877 seconds for batch 709000_6011000\n",
      "creating grid completed successfully.\n",
      "Batch grid created in 74.12998342514038 seconds for batch 699000_5991000\n",
      "NN output tile /mnt/datapool1/datapool1/datasets/nvis_outputs/NVIS_8L_fm_mape_r1_KI2020/temp/699000_5991000_nn_tile.tif does not exist, skipping.\n"
     ]
    },
    {
     "name": "stderr",
     "output_type": "stream",
     "text": [
      "batch_list:  39%|\u001b[34m███▉      \u001b[0m| 181/465 [02:58<29:23,  6.21s/it]Logged warning: Duplicate provider native registered\n"
     ]
    },
    {
     "name": "stdout",
     "output_type": "stream",
     "text": [
      "creating grid completed successfully.\n",
      "Batch grid created in 69.39652442932129 seconds for batch 729000_6036000\n",
      "creating grid completed successfully.\n",
      "Batch grid created in 70.56071305274963 seconds for batch 719000_6031000\n",
      "creating grid completed successfully.\n",
      "Batch grid created in 70.7311429977417 seconds for batch 714000_5991000\n"
     ]
    },
    {
     "name": "stderr",
     "output_type": "stream",
     "text": [
      "batch_list:  39%|\u001b[34m███▉      \u001b[0m| 182/465 [02:59<24:10,  5.13s/it]"
     ]
    },
    {
     "name": "stdout",
     "output_type": "stream",
     "text": [
      "creating grid completed successfully.\n",
      "Batch grid created in 72.1896243095398 seconds for batch 709000_6046000\n",
      "creating grid completed successfully.\n",
      "Batch grid created in 71.08157277107239 seconds for batch 714000_6061000\n"
     ]
    },
    {
     "name": "stderr",
     "output_type": "stream",
     "text": [
      "Logged warning: Duplicate provider native registered\n"
     ]
    },
    {
     "name": "stdout",
     "output_type": "stream",
     "text": [
      "creating grid completed successfully.\n",
      "Batch grid created in 72.82432579994202 seconds for batch 709000_6056000\n",
      "creating grid completed successfully.\n",
      "Batch grid created in 67.51814651489258 seconds for batch 744000_6061000\n",
      "creating grid completed successfully.\n",
      "Batch grid created in 72.70337224006653 seconds for batch 709000_6051000\n",
      "NN output tile /mnt/datapool1/datapool1/datasets/nvis_outputs/NVIS_8L_fm_mape_r1_KI2020/temp/714000_5991000_nn_tile.tif does not exist, skipping.\n"
     ]
    },
    {
     "name": "stderr",
     "output_type": "stream",
     "text": [
      "Logged warning: Duplicate provider native registered\n",
      "batch_list:  40%|\u001b[34m███▉      \u001b[0m| 184/465 [03:00<16:39,  3.56s/it]Logged warning: Duplicate provider native registered\n"
     ]
    },
    {
     "name": "stdout",
     "output_type": "stream",
     "text": [
      "creating grid completed successfully.\n",
      "Batch grid created in 79.00327563285828 seconds for batch 694000_5991000\n",
      "creating grid completed successfully.\n",
      "Batch grid created in 70.22095561027527 seconds for batch 734000_6061000\n",
      "creating grid completed successfully.\n",
      "Batch grid created in 72.82097172737122 seconds for batch 714000_6021000\n",
      "creating grid completed successfully.\n",
      "Batch grid created in 77.01343321800232 seconds for batch 699000_6011000\n",
      "creating grid completed successfully.\n",
      "Batch grid created in 69.7025375366211 seconds for batch 739000_6046000\n",
      "creating grid completed successfully.\n",
      "Batch grid created in 72.9424238204956 seconds for batch 714000_6046000\n",
      "NN output tile /mnt/datapool1/datapool1/datasets/nvis_outputs/NVIS_8L_fm_mape_r1_KI2020/temp/694000_5991000_nn_tile.tif does not exist, skipping.\n"
     ]
    },
    {
     "name": "stderr",
     "output_type": "stream",
     "text": [
      "batch_list:  40%|\u001b[34m███▉      \u001b[0m| 185/465 [03:01<14:01,  3.01s/it]Logged warning: Duplicate provider native registered\n",
      "batch_list:  40%|\u001b[34m████      \u001b[0m| 186/465 [03:01<11:08,  2.40s/it]Logged warning: Duplicate provider native registered\n",
      "batch_list:  40%|\u001b[34m████      \u001b[0m| 187/465 [03:01<08:49,  1.90s/it]"
     ]
    },
    {
     "name": "stdout",
     "output_type": "stream",
     "text": [
      "creating grid completed successfully.\n",
      "Batch grid created in 76.65330219268799 seconds for batch 704000_6061000\n",
      "creating grid completed successfully.\n",
      "Batch grid created in 69.25249028205872 seconds for batch 744000_6021000\n"
     ]
    },
    {
     "name": "stderr",
     "output_type": "stream",
     "text": [
      "Logged warning: Duplicate provider native registered\n"
     ]
    },
    {
     "name": "stdout",
     "output_type": "stream",
     "text": [
      "creating grid completed successfully.\n",
      "Batch grid created in 84.29211711883545 seconds for batch 694000_6041000\n",
      "creating grid completed successfully.\n",
      "Batch grid created in 71.36385202407837 seconds for batch 734000_6006000\n",
      "creating grid completed successfully.\n",
      "Batch grid created in 73.33432960510254 seconds for batch 724000_6021000\n"
     ]
    },
    {
     "name": "stderr",
     "output_type": "stream",
     "text": [
      "batch_list:  40%|\u001b[34m████      \u001b[0m| 188/465 [03:02<07:25,  1.61s/it]Logged warning: Duplicate provider native registered\n",
      "Logged warning: Duplicate provider native registered\n",
      "Logged warning: Duplicate provider native registered\n",
      "batch_list:  41%|\u001b[34m████      \u001b[0m| 191/465 [03:02<03:35,  1.27it/s]Logged warning: Duplicate provider native registered\n",
      "Logged warning: Duplicate provider native registered\n",
      "Logged warning: Duplicate provider native registered\n",
      "batch_list:  42%|\u001b[34m████▏     \u001b[0m| 194/465 [03:02<02:08,  2.11it/s]Logged warning: Duplicate provider native registered\n"
     ]
    },
    {
     "name": "stdout",
     "output_type": "stream",
     "text": [
      "creating grid completed successfully.\n",
      "Batch grid created in 77.41977405548096 seconds for batch 704000_6041000\n"
     ]
    },
    {
     "name": "stderr",
     "output_type": "stream",
     "text": [
      "Logged warning: Duplicate provider native registered\n",
      "batch_list:  42%|\u001b[34m████▏     \u001b[0m| 196/465 [03:04<02:24,  1.87it/s]Logged warning: Duplicate provider native registered\n",
      "Logged warning: Duplicate provider native registered\n",
      "batch_list:  43%|\u001b[34m████▎     \u001b[0m| 198/465 [03:04<01:45,  2.53it/s]Logged warning: Duplicate provider native registered\n",
      "Logged warning: Duplicate provider native registered\n"
     ]
    },
    {
     "name": "stdout",
     "output_type": "stream",
     "text": [
      "creating grid completed successfully.\n",
      "Batch grid created in 78.03128170967102 seconds for batch 704000_6006000\n",
      "creating grid completed successfully.\n",
      "Batch grid created in 73.65747213363647 seconds for batch 734000_6011000\n",
      "creating grid completed successfully.\n",
      "Batch grid created in 71.69599962234497 seconds for batch 744000_6011000\n",
      "creating grid completed successfully.\n",
      "Batch grid created in 75.76431679725647 seconds for batch 724000_6011000\n",
      "creating grid completed successfully.\n",
      "Batch grid created in 78.62592101097107 seconds for batch 704000_6016000\n"
     ]
    },
    {
     "name": "stderr",
     "output_type": "stream",
     "text": [
      "batch_list:  43%|\u001b[34m████▎     \u001b[0m| 200/465 [03:06<02:41,  1.64it/s]"
     ]
    },
    {
     "name": "stdout",
     "output_type": "stream",
     "text": [
      "creating grid completed successfully.\n",
      "Batch grid created in 83.86096572875977 seconds for batch 699000_6051000\n"
     ]
    },
    {
     "name": "stderr",
     "output_type": "stream",
     "text": [
      "Logged warning: Duplicate provider native registered\n",
      "Logged warning: Duplicate provider native registered\n",
      "Logged warning: Duplicate provider native registered\n",
      "Logged warning: Duplicate provider native registered\n",
      "Logged warning: Duplicate provider native registered\n"
     ]
    },
    {
     "name": "stdout",
     "output_type": "stream",
     "text": [
      "creating grid completed successfully.\n",
      "Batch grid created in 89.03913736343384 seconds for batch 694000_6036000\n",
      "creating grid completed successfully.\n",
      "Batch grid created in 87.38344645500183 seconds for batch 694000_6021000\n",
      "creating grid completed successfully.\n",
      "Batch grid created in 76.27895092964172 seconds for batch 734000_6036000\n",
      "creating grid completed successfully.\n",
      "Batch grid created in 83.4371247291565 seconds for batch 699000_6016000\n",
      "creating grid completed successfully.\n",
      "Batch grid created in 76.12130570411682 seconds for batch 734000_5991000\n",
      "creating grid completed successfully.\n",
      "Batch grid created in 81.84029269218445 seconds for batch 704000_6046000\n",
      "NN output tile /mnt/datapool1/datapool1/datasets/nvis_outputs/NVIS_8L_fm_mape_r1_KI2020/temp/734000_5991000_nn_tile.tif does not exist, skipping.\n"
     ]
    },
    {
     "name": "stderr",
     "output_type": "stream",
     "text": [
      "batch_list:  44%|\u001b[34m████▍     \u001b[0m| 205/465 [03:08<02:05,  2.07it/s]Logged warning: Duplicate provider native registered\n"
     ]
    },
    {
     "name": "stdout",
     "output_type": "stream",
     "text": [
      "creating grid completed successfully.\n",
      "Batch grid created in 79.9977777004242 seconds for batch 719000_6016000\n",
      "creating grid completed successfully.\n",
      "Batch grid created in 82.74723696708679 seconds for batch 704000_6031000\n",
      "creating grid completed successfully.\n",
      "Batch grid created in 89.16712069511414 seconds for batch 694000_6011000\n",
      "creating grid completed successfully.\n",
      "Batch grid created in 82.59015822410583 seconds for batch 704000_6011000\n",
      "creating grid completed successfully.\n",
      "Batch grid created in 78.03571915626526 seconds for batch 734000_6016000\n",
      "creating grid completed successfully.\n",
      "Batch grid created in 85.57409930229187 seconds for batch 699000_6041000\n",
      "creating grid completed successfully.\n",
      "Batch grid created in 82.52067112922668 seconds for batch 704000_6001000\n",
      "creating grid completed successfully.\n",
      "Batch grid created in 84.61626505851746 seconds for batch 699000_6001000\n"
     ]
    },
    {
     "name": "stderr",
     "output_type": "stream",
     "text": [
      "batch_list:  44%|\u001b[34m████▍     \u001b[0m| 206/465 [03:09<02:14,  1.92it/s]Logged warning: Duplicate provider native registered\n",
      "Logged warning: Duplicate provider native registered\n",
      "Logged warning: Duplicate provider native registered\n",
      "Logged warning: Duplicate provider native registered\n",
      "Logged warning: Duplicate provider native registered\n",
      "batch_list:  45%|\u001b[34m████▌     \u001b[0m| 211/465 [03:09<01:11,  3.55it/s]"
     ]
    },
    {
     "name": "stdout",
     "output_type": "stream",
     "text": [
      "creating grid completed successfully.\n",
      "Batch grid created in 91.63410305976868 seconds for batch 694000_6046000\n",
      "creating grid completed successfully.\n",
      "Batch grid created in 81.18005347251892 seconds for batch 709000_5996000\n",
      "creating grid completed successfully.\n",
      "Batch grid created in 83.3319776058197 seconds for batch 704000_6026000\n"
     ]
    },
    {
     "name": "stderr",
     "output_type": "stream",
     "text": [
      "Logged warning: Duplicate provider native registered\n"
     ]
    },
    {
     "name": "stdout",
     "output_type": "stream",
     "text": [
      "creating grid completed successfully.\n",
      "Batch grid created in 91.13825941085815 seconds for batch 694000_6031000\n",
      "creating grid completed successfully.\n",
      "Batch grid created in 82.27384424209595 seconds for batch 709000_6041000\n",
      "creating grid completed successfully.\n",
      "Batch grid created in 81.1977903842926 seconds for batch 714000_6011000\n",
      "creating grid completed successfully.\n",
      "Batch grid created in 80.64283180236816 seconds for batch 724000_6061000\n",
      "creating grid completed successfully.\n",
      "Batch grid created in 87.82398676872253 seconds for batch 699000_6061000\n",
      "NN output tile /mnt/datapool1/datapool1/datasets/nvis_outputs/NVIS_8L_fm_mape_r1_KI2020/temp/709000_5996000_nn_tile.tif does not exist, skipping.\n"
     ]
    },
    {
     "name": "stderr",
     "output_type": "stream",
     "text": [
      "Logged warning: Duplicate provider native registered\n"
     ]
    },
    {
     "name": "stdout",
     "output_type": "stream",
     "text": [
      "creating grid completed successfully.\n",
      "Batch grid created in 80.74115133285522 seconds for batch 724000_6001000\n",
      "creating grid completed successfully.\n",
      "Batch grid created in 83.82092595100403 seconds for batch 704000_6021000\n",
      "creating grid completed successfully.\n",
      "Batch grid created in 86.66400265693665 seconds for batch 699000_6031000\n",
      "creating grid completed successfully.\n",
      "Batch grid created in 88.60499572753906 seconds for batch 694000_5996000\n",
      "creating grid completed successfully.creating grid completed successfully.\n",
      "\n",
      "Batch grid created in 78.04747867584229 seconds for batch 744000_6056000Batch grid created in 93.81629133224487 seconds for batch 694000_6051000\n",
      "\n",
      "creating grid completed successfully.\n",
      "Batch grid created in 85.84643840789795 seconds for batch 699000_5996000\n",
      "NN output tile /mnt/datapool1/datapool1/datasets/nvis_outputs/NVIS_8L_fm_mape_r1_KI2020/temp/694000_5996000_nn_tile.tif does not exist, skipping.\n"
     ]
    },
    {
     "name": "stderr",
     "output_type": "stream",
     "text": [
      "batch_list:  46%|\u001b[34m████▌     \u001b[0m| 213/465 [03:10<01:20,  3.11it/s]Logged warning: Duplicate provider native registered\n",
      "Logged warning: Duplicate provider native registered\n",
      "batch_list:  46%|\u001b[34m████▌     \u001b[0m| 215/465 [03:10<01:05,  3.79it/s]Logged warning: Duplicate provider native registered\n",
      "Logged warning: Duplicate provider native registered\n",
      "Logged warning: Duplicate provider native registered\n",
      "Logged warning: Duplicate provider native registered\n",
      "Logged warning: Duplicate provider native registered\n",
      "Logged warning: Duplicate provider native registered\n",
      "batch_list:  48%|\u001b[34m████▊     \u001b[0m| 221/465 [03:10<00:34,  7.08it/s]Logged warning: Duplicate provider native registered\n",
      "Logged warning: Duplicate provider native registered\n",
      "Logged warning: Duplicate provider native registered\n",
      "Logged warning: Duplicate provider native registered\n",
      "Logged warning: Duplicate provider native registered\n"
     ]
    },
    {
     "name": "stdout",
     "output_type": "stream",
     "text": [
      "creating grid completed successfully.\n",
      "Batch grid created in 82.3270857334137 seconds for batch 714000_6001000\n",
      "creating grid completed successfully.\n",
      "Batch grid created in 95.32940864562988 seconds for batch 694000_6061000\n",
      "creating grid completed successfully.\n",
      "Batch grid created in 82.92154240608215 seconds for batch 714000_6041000\n",
      "NN output tile /mnt/datapool1/datapool1/datasets/nvis_outputs/NVIS_8L_fm_mape_r1_KI2020/temp/699000_5996000_nn_tile.tif does not exist, skipping.\n"
     ]
    },
    {
     "name": "stderr",
     "output_type": "stream",
     "text": [
      "batch_list:  49%|\u001b[34m████▊     \u001b[0m| 226/465 [03:11<00:34,  6.88it/s]Logged warning: Duplicate provider native registered\n",
      "Logged warning: Duplicate provider native registered\n",
      "batch_list:  49%|\u001b[34m████▉     \u001b[0m| 228/465 [03:11<00:30,  7.75it/s]"
     ]
    },
    {
     "name": "stdout",
     "output_type": "stream",
     "text": [
      "creating grid completed successfully.\n",
      "Batch grid created in 97.97872805595398 seconds for batch 689000_5996000\n"
     ]
    },
    {
     "name": "stderr",
     "output_type": "stream",
     "text": [
      "Logged warning: Duplicate provider native registered\n",
      "Logged warning: Duplicate provider native registered\n",
      "Logged warning: Duplicate provider native registered\n",
      "Logged warning: Duplicate provider native registered\n",
      "batch_list:  50%|\u001b[34m████▉     \u001b[0m| 232/465 [03:11<00:24,  9.58it/s]"
     ]
    },
    {
     "name": "stdout",
     "output_type": "stream",
     "text": [
      "creating grid completed successfully.\n",
      "Batch grid created in 88.74942517280579 seconds for batch 699000_6046000\n"
     ]
    },
    {
     "name": "stderr",
     "output_type": "stream",
     "text": [
      "Logged warning: Duplicate provider native registered\n",
      "Logged warning: Duplicate provider native registered\n",
      "Logged warning: Duplicate provider native registered\n",
      "batch_list:  51%|\u001b[34m█████     \u001b[0m| 235/465 [03:11<00:23,  9.92it/s]Logged warning: Duplicate provider native registered\n"
     ]
    },
    {
     "name": "stdout",
     "output_type": "stream",
     "text": [
      "creating grid completed successfully.\n",
      "Batch grid created in 93.00343823432922 seconds for batch 694000_6006000\n",
      "creating grid completed successfully.\n",
      "Batch grid created in 85.86711239814758 seconds for batch 704000_5996000\n",
      "creating grid completed successfully.\n",
      "Batch grid created in 83.69368720054626 seconds for batch 724000_6026000\n",
      "NN output tile /mnt/datapool1/datapool1/datasets/nvis_outputs/NVIS_8L_fm_mape_r1_KI2020/temp/689000_5996000_nn_tile.tif does not exist, skipping.NN output tile /mnt/datapool1/datapool1/datasets/nvis_outputs/NVIS_8L_fm_mape_r1_KI2020/temp/704000_5996000_nn_tile.tif does not exist, skipping.\n",
      "\n"
     ]
    },
    {
     "name": "stderr",
     "output_type": "stream",
     "text": [
      "batch_list:  51%|\u001b[34m█████     \u001b[0m| 237/465 [03:12<00:41,  5.51it/s]Logged warning: Duplicate provider native registered\n",
      "Logged warning: Duplicate provider native registered\n",
      "Logged warning: Duplicate provider native registered\n",
      "batch_list:  51%|\u001b[34m█████▏    \u001b[0m| 239/465 [03:13<00:38,  5.83it/s]Logged warning: Duplicate provider native registered\n",
      "Logged warning: Duplicate provider native registered\n",
      "Logged warning: Duplicate provider native registered\n",
      "Logged warning: Duplicate provider native registered\n"
     ]
    },
    {
     "name": "stdout",
     "output_type": "stream",
     "text": [
      "creating grid completed successfully.\n",
      "Batch grid created in 95.19685506820679 seconds for batch 694000_6016000\n",
      "creating grid completed successfully.\n",
      "Batch grid created in 83.9307930469513 seconds for batch 734000_6001000\n",
      "creating grid completed successfully.\n",
      "Batch grid created in 92.63375997543335 seconds for batch 699000_6056000\n"
     ]
    },
    {
     "name": "stderr",
     "output_type": "stream",
     "text": [
      "batch_list:  52%|\u001b[34m█████▏    \u001b[0m| 243/465 [03:15<01:14,  2.98it/s]Logged warning: Duplicate provider native registered\n",
      "batch_list:  52%|\u001b[34m█████▏    \u001b[0m| 244/465 [03:15<01:09,  3.19it/s]Logged warning: Duplicate provider native registered\n"
     ]
    },
    {
     "name": "stdout",
     "output_type": "stream",
     "text": [
      "creating grid completed successfully.\n",
      "Batch grid created in 92.73001980781555 seconds for batch 699000_6021000\n"
     ]
    },
    {
     "name": "stderr",
     "output_type": "stream",
     "text": [
      "batch_list:  53%|\u001b[34m█████▎    \u001b[0m| 245/465 [03:16<01:38,  2.24it/s]Logged warning: Duplicate provider native registered\n",
      "Logged warning: Duplicate provider native registered\n",
      "batch_list:  53%|\u001b[34m█████▎    \u001b[0m| 247/465 [03:17<01:14,  2.92it/s]Logged warning: Duplicate provider native registered\n",
      "batch_list:  53%|\u001b[34m█████▎    \u001b[0m| 248/465 [03:17<01:10,  3.06it/s]Logged warning: Duplicate provider native registered\n",
      "batch_list:  54%|\u001b[34m█████▎    \u001b[0m| 249/465 [03:18<01:34,  2.28it/s]Logged warning: Duplicate provider native registered\n",
      "batch_list:  54%|\u001b[34m█████▍    \u001b[0m| 250/465 [03:18<01:24,  2.55it/s]Logged warning: Duplicate provider native registered\n",
      "batch_list:  54%|\u001b[34m█████▍    \u001b[0m| 251/465 [03:20<02:28,  1.44it/s]Logged warning: Duplicate provider native registered\n",
      "Logged warning: Duplicate provider native registered\n"
     ]
    },
    {
     "name": "stdout",
     "output_type": "stream",
     "text": [
      "creating grid completed successfully.\n",
      "Batch grid created in 93.88507127761841 seconds for batch 714000_6016000\n",
      "creating grid completed successfully.\n",
      "Batch grid created in 92.4703061580658 seconds for batch 729000_5991000\n",
      "NN output tile /mnt/datapool1/datapool1/datasets/nvis_outputs/NVIS_8L_fm_mape_r1_KI2020/temp/729000_5991000_nn_tile.tif does not exist, skipping.\n"
     ]
    },
    {
     "name": "stderr",
     "output_type": "stream",
     "text": [
      "batch_list:  54%|\u001b[34m█████▍    \u001b[0m| 253/465 [03:23<03:51,  1.09s/it]Logged warning: Duplicate provider native registered\n"
     ]
    },
    {
     "name": "stdout",
     "output_type": "stream",
     "text": [
      "creating grid completed successfully.\n",
      "Batch grid created in 91.80084896087646 seconds for batch 739000_6006000\n",
      "creating grid completed successfully.\n",
      "Batch grid created in 95.49241638183594 seconds for batch 724000_5996000\n",
      "NN output tile /mnt/datapool1/datapool1/datasets/nvis_outputs/NVIS_8L_fm_mape_r1_KI2020/temp/724000_5996000_nn_tile.tif does not exist, skipping.\n"
     ]
    },
    {
     "name": "stderr",
     "output_type": "stream",
     "text": [
      "batch_list:  55%|\u001b[34m█████▍    \u001b[0m| 254/465 [03:25<04:16,  1.22s/it]"
     ]
    },
    {
     "name": "stdout",
     "output_type": "stream",
     "text": [
      "creating grid completed successfully.\n",
      "Batch grid created in 92.96745109558105 seconds for batch 744000_6036000\n",
      "creating grid completed successfully.\n",
      "Batch grid created in 96.6469886302948 seconds for batch 719000_6041000\n"
     ]
    },
    {
     "name": "stderr",
     "output_type": "stream",
     "text": [
      "Logged warning: Duplicate provider native registered\n"
     ]
    },
    {
     "name": "stdout",
     "output_type": "stream",
     "text": [
      "creating grid completed successfully.\n",
      "Batch grid created in 94.65354657173157 seconds for batch 734000_6056000\n",
      "creating grid completed successfully.\n",
      "Batch grid created in 93.18798851966858 seconds for batch 739000_5991000\n",
      "creating grid completed successfully.\n",
      "Batch grid created in 102.30142426490784 seconds for batch 699000_6036000\n",
      "NN output tile /mnt/datapool1/datapool1/datasets/nvis_outputs/NVIS_8L_fm_mape_r1_KI2020/temp/739000_5991000_nn_tile.tif does not exist, skipping.\n"
     ]
    },
    {
     "name": "stderr",
     "output_type": "stream",
     "text": [
      "batch_list:  55%|\u001b[34m█████▍    \u001b[0m| 255/465 [03:26<04:26,  1.27s/it]Logged warning: Duplicate provider native registered\n",
      "batch_list:  55%|\u001b[34m█████▌    \u001b[0m| 256/465 [03:26<03:23,  1.03it/s]Logged warning: Duplicate provider native registered\n"
     ]
    },
    {
     "name": "stdout",
     "output_type": "stream",
     "text": [
      "creating grid completed successfully.\n",
      "Batch grid created in 93.28709578514099 seconds for batch 749000_6056000\n",
      "creating grid completed successfully.\n",
      "Batch grid created in 94.11404061317444 seconds for batch 744000_6006000\n",
      "creating grid completed successfully.\n",
      "Batch grid created in 101.92958092689514 seconds for batch 704000_6056000\n",
      "creating grid completed successfully.\n",
      "Batch grid created in 92.65891766548157 seconds for batch 749000_6036000\n",
      "creating grid completed successfully.\n",
      "Batch grid created in 95.29228448867798 seconds for batch 739000_6021000\n",
      "creating grid completed successfully.\n",
      "Batch grid created in 98.37280488014221 seconds for batch 724000_6041000\n",
      "creating grid completed successfully.\n",
      "Batch grid created in 98.51935362815857 seconds for batch 719000_5991000\n",
      "creating grid completed successfully.\n",
      "Batch grid created in 99.42660474777222 seconds for batch 714000_6036000\n",
      "creating grid completed successfully.\n",
      "Batch grid created in 95.0485622882843 seconds for batch 744000_5996000\n",
      "creating grid completed successfully.\n",
      "Batch grid created in 99.85826635360718 seconds for batch 714000_6031000\n",
      "creating grid completed successfully.\n",
      "Batch grid created in 99.20350456237793 seconds for batch 724000_6031000\n",
      "creating grid completed successfully.\n",
      "Batch grid created in 101.40636491775513 seconds for batch 704000_5991000\n",
      "NN output tile /mnt/datapool1/datapool1/datasets/nvis_outputs/NVIS_8L_fm_mape_r1_KI2020/temp/719000_5991000_nn_tile.tif does not exist, skipping.NN output tile /mnt/datapool1/datapool1/datasets/nvis_outputs/NVIS_8L_fm_mape_r1_KI2020/temp/744000_5996000_nn_tile.tif does not exist, skipping.\n",
      "NN output tile /mnt/datapool1/datapool1/datasets/nvis_outputs/NVIS_8L_fm_mape_r1_KI2020/temp/704000_5991000_nn_tile.tif does not exist, skipping.\n",
      "\n"
     ]
    },
    {
     "name": "stderr",
     "output_type": "stream",
     "text": [
      "batch_list:  55%|\u001b[34m█████▌    \u001b[0m| 257/465 [03:28<04:02,  1.16s/it]Logged warning: Duplicate provider native registered\n",
      "Logged warning: Duplicate provider native registered\n",
      "Logged warning: Duplicate provider native registered\n"
     ]
    },
    {
     "name": "stdout",
     "output_type": "stream",
     "text": [
      "creating grid completed successfully.\n",
      "Batch grid created in 97.15821242332458 seconds for batch 739000_6051000\n",
      "creating grid completed successfully.\n",
      "Batch grid created in 95.63257479667664 seconds for batch 744000_6001000\n"
     ]
    },
    {
     "name": "stderr",
     "output_type": "stream",
     "text": [
      "batch_list:  56%|\u001b[34m█████▌    \u001b[0m| 260/465 [03:28<02:04,  1.64it/s]"
     ]
    },
    {
     "name": "stdout",
     "output_type": "stream",
     "text": [
      "creating grid completed successfully.\n",
      "Batch grid created in 95.93395709991455 seconds for batch 744000_6016000\n",
      "creating grid completed successfully.\n",
      "Batch grid created in 99.81934356689453 seconds for batch 724000_6056000\n",
      "creating grid completed successfully.\n",
      "Batch grid created in 98.05990719795227 seconds for batch 734000_6041000\n"
     ]
    },
    {
     "name": "stderr",
     "output_type": "stream",
     "text": [
      "Logged warning: Duplicate provider native registered\n"
     ]
    },
    {
     "name": "stdout",
     "output_type": "stream",
     "text": [
      "creating grid completed successfully.\n",
      "Batch grid created in 96.83244323730469 seconds for batch 739000_6001000\n",
      "creating grid completed successfully.\n",
      "Batch grid created in 95.84930181503296 seconds for batch 749000_6061000\n",
      "creating grid completed successfully.\n",
      "Batch grid created in 100.38818311691284 seconds for batch 719000_6046000\n",
      "creating grid completed successfully.\n",
      "Batch grid created in 99.38892269134521 seconds for batch 729000_6046000\n",
      "creating grid completed successfully.\n",
      "Batch grid created in 101.80811524391174 seconds for batch 709000_6031000\n",
      "creating grid completed successfully.\n",
      "Batch grid created in 107.60244584083557 seconds for batch 694000_6001000\n",
      "creating grid completed successfully.\n",
      "Batch grid created in 99.8314950466156 seconds for batch 724000_5991000\n",
      "creating grid completed successfully.\n",
      "Batch grid created in 95.42494368553162 seconds for batch 749000_6051000\n",
      "creating grid completed successfully.\n",
      "Batch grid created in 99.71050429344177 seconds for batch 729000_6051000\n",
      "creating grid completed successfully.\n",
      "Batch grid created in 103.78528070449829 seconds for batch 704000_6036000\n",
      "creating grid completed successfully.\n",
      "Batch grid created in 98.94727611541748 seconds for batch 729000_6001000\n",
      "creating grid completed successfully.\n",
      "Batch grid created in 95.56841921806335 seconds for batch 749000_6046000\n",
      "creating grid completed successfully.\n",
      "Batch grid created in 100.58353018760681 seconds for batch 719000_6001000\n",
      "creating grid completed successfully.\n",
      "Batch grid created in 100.66828751564026 seconds for batch 719000_6006000\n",
      "creating grid completed successfully.\n",
      "Batch grid created in 96.81087160110474 seconds for batch 744000_6026000\n",
      "creating grid completed successfully.\n",
      "Batch grid created in 100.60336208343506 seconds for batch 724000_6051000\n",
      "creating grid completed successfully.\n",
      "Batch grid created in 100.16961860656738 seconds for batch 729000_6061000\n",
      "creating grid completed successfully.\n",
      "Batch grid created in 104.26838660240173 seconds for batch 704000_6051000\n",
      "NN output tile /mnt/datapool1/datapool1/datasets/nvis_outputs/NVIS_8L_fm_mape_r1_KI2020/temp/724000_5991000_nn_tile.tif does not exist, skipping.\n"
     ]
    },
    {
     "name": "stderr",
     "output_type": "stream",
     "text": [
      "batch_list:  56%|\u001b[34m█████▌    \u001b[0m| 261/465 [03:29<02:18,  1.48it/s]Logged warning: Duplicate provider native registered\n",
      "batch_list:  56%|\u001b[34m█████▋    \u001b[0m| 262/465 [03:29<01:55,  1.75it/s]Logged warning: Duplicate provider native registered\n",
      "Logged warning: Duplicate provider native registered\n",
      "Logged warning: Duplicate provider native registered\n",
      "Logged warning: Duplicate provider native registered\n"
     ]
    },
    {
     "name": "stdout",
     "output_type": "stream",
     "text": [
      "creating grid completed successfully.\n",
      "Batch grid created in 101.02728605270386 seconds for batch 724000_6016000\n",
      "creating grid completed successfully.\n",
      "Batch grid created in 98.22042155265808 seconds for batch 739000_6041000\n",
      "creating grid completed successfully.\n",
      "Batch grid created in 100.37022495269775 seconds for batch 729000_6031000\n",
      "creating grid completed successfully.\n",
      "Batch grid created in 100.06369304656982 seconds for batch 729000_6011000\n",
      "creating grid completed successfully.\n",
      "Batch grid created in 100.43877172470093 seconds for batch 729000_6021000\n",
      "creating grid completed successfully.\n",
      "Batch grid created in 101.70071816444397 seconds for batch 719000_6036000\n",
      "creating grid completed successfully.\n",
      "Batch grid created in 100.06947374343872 seconds for batch 729000_6006000\n",
      "creating grid completed successfully.\n",
      "Batch grid created in 98.46764707565308 seconds for batch 739000_6036000\n",
      "creating grid completed successfully.\n",
      "Batch grid created in 101.51583504676819 seconds for batch 724000_6046000\n",
      "creating grid completed successfully.\n",
      "Batch grid created in 99.87767434120178 seconds for batch 734000_6046000\n",
      "creating grid completed successfully.\n",
      "Batch grid created in 98.56309676170349 seconds for batch 739000_6011000\n",
      "creating grid completed successfully.\n",
      "Batch grid created in 102.9569046497345 seconds for batch 709000_6016000\n",
      "creating grid completed successfully.\n",
      "Batch grid created in 100.16116261482239 seconds for batch 729000_5996000\n",
      "creating grid completed successfully.\n",
      "Batch grid created in 96.8087990283966 seconds for batch 749000_6041000\n",
      "creating grid completed successfully.\n",
      "Batch grid created in 99.83184862136841 seconds for batch 734000_5996000\n",
      "creating grid completed successfully.\n",
      "Batch grid created in 101.9556839466095 seconds for batch 719000_5996000\n",
      "creating grid completed successfully.\n",
      "Batch grid created in 101.82466292381287 seconds for batch 724000_6036000\n",
      "creating grid completed successfully.\n",
      "Batch grid created in 98.93662905693054 seconds for batch 739000_6031000\n",
      "creating grid completed successfully.\n",
      "Batch grid created in 102.72052264213562 seconds for batch 709000_5991000\n",
      "creating grid completed successfully.\n",
      "Batch grid created in 98.92432689666748 seconds for batch 739000_6026000\n",
      "creating grid completed successfully.\n",
      "Batch grid created in 98.7389645576477 seconds for batch 744000_6046000\n",
      "creating grid completed successfully.\n",
      "Batch grid created in 100.29795718193054 seconds for batch 734000_6051000\n",
      "creating grid completed successfully.\n",
      "Batch grid created in 98.86192274093628 seconds for batch 739000_5996000\n",
      "creating grid completed successfully.\n",
      "Batch grid created in 102.52347922325134 seconds for batch 714000_5996000\n",
      "creating grid completed successfully.\n",
      "Batch grid created in 103.53264951705933 seconds for batch 709000_6021000\n",
      "creating grid completed successfully.\n",
      "Batch grid created in 98.02860999107361 seconds for batch 744000_5991000\n",
      "creating grid completed successfully.\n",
      "Batch grid created in 102.39798355102539 seconds for batch 719000_6026000\n",
      "creating grid completed successfully.\n",
      "Batch grid created in 100.31060862541199 seconds for batch 734000_6031000\n",
      "creating grid completed successfully.\n",
      "Batch grid created in 102.96230387687683 seconds for batch 709000_6006000\n",
      "NN output tile /mnt/datapool1/datapool1/datasets/nvis_outputs/NVIS_8L_fm_mape_r1_KI2020/temp/729000_5996000_nn_tile.tif does not exist, skipping.NN output tile /mnt/datapool1/datapool1/datasets/nvis_outputs/NVIS_8L_fm_mape_r1_KI2020/temp/734000_5996000_nn_tile.tif does not exist, skipping.NN output tile /mnt/datapool1/datapool1/datasets/nvis_outputs/NVIS_8L_fm_mape_r1_KI2020/temp/739000_5996000_nn_tile.tif does not exist, skipping.NN output tile /mnt/datapool1/datapool1/datasets/nvis_outputs/NVIS_8L_fm_mape_r1_KI2020/temp/719000_5996000_nn_tile.tif does not exist, skipping.NN output tile /mnt/datapool1/datapool1/datasets/nvis_outputs/NVIS_8L_fm_mape_r1_KI2020/temp/709000_5991000_nn_tile.tif does not exist, skipping.NN output tile /mnt/datapool1/datapool1/datasets/nvis_outputs/NVIS_8L_fm_mape_r1_KI2020/temp/714000_5996000_nn_tile.tif does not exist, skipping.NN output tile /mnt/datapool1/datapool1/datasets/nvis_outputs/NVIS_8L_fm_mape_r1_KI2020/temp/744000_5991000_nn_tile.tif does not exist, skipping.\n",
      "\n",
      "\n",
      "\n",
      "\n"
     ]
    },
    {
     "name": "stderr",
     "output_type": "stream",
     "text": [
      "batch_list:  57%|\u001b[34m█████▋    \u001b[0m| 266/465 [03:31<01:25,  2.32it/s]Logged warning: Duplicate provider native registered\n",
      "Logged warning: Duplicate provider native registered\n",
      "Logged warning: Duplicate provider native registered\n",
      "Logged warning: Duplicate provider native registered\n",
      "Logged warning: Duplicate provider native registered\n",
      "Logged warning: Duplicate provider native registered\n",
      "Logged warning: Duplicate provider native registered\n"
     ]
    },
    {
     "name": "stdout",
     "output_type": "stream",
     "text": [
      "\n",
      "\n"
     ]
    },
    {
     "name": "stderr",
     "output_type": "stream",
     "text": [
      "batch_list:  59%|\u001b[34m█████▊    \u001b[0m| 273/465 [03:31<00:40,  4.80it/s]Logged warning: Duplicate provider native registered\n",
      "Logged warning: Duplicate provider native registered\n",
      "Logged warning: Duplicate provider native registered\n",
      "batch_list:  59%|\u001b[34m█████▉    \u001b[0m| 276/465 [03:31<00:31,  6.08it/s]Logged warning: Duplicate provider native registered\n",
      "Logged warning: Duplicate provider native registered\n",
      "Logged warning: Duplicate provider native registered\n"
     ]
    },
    {
     "name": "stdout",
     "output_type": "stream",
     "text": [
      "creating grid completed successfully.\n",
      "Batch grid created in 100.45309066772461 seconds for batch 739000_6061000\n",
      "creating grid completed successfully.\n",
      "Batch grid created in 104.3174889087677 seconds for batch 709000_6026000\n"
     ]
    },
    {
     "name": "stderr",
     "output_type": "stream",
     "text": [
      "batch_list:  60%|\u001b[34m██████    \u001b[0m| 279/465 [03:31<00:26,  7.10it/s]Logged warning: Duplicate provider native registered\n",
      "Logged warning: Duplicate provider native registered\n"
     ]
    },
    {
     "name": "stdout",
     "output_type": "stream",
     "text": [
      "creating grid completed successfully.creating grid completed successfully.\n",
      "\n",
      "Batch grid created in 99.95275044441223 seconds for batch 744000_6031000Batch grid created in 102.34512162208557 seconds for batch 729000_6016000\n",
      "\n",
      "creating grid completed successfully.\n",
      "Batch grid created in 103.1194326877594 seconds for batch 724000_6006000\n",
      "creating grid completed successfully.\n",
      "Batch grid created in 104.09178423881531 seconds for batch 709000_6001000\n",
      "creating grid completed successfully.\n",
      "Batch grid created in 103.7855052947998 seconds for batch 719000_6056000\n",
      "creating grid completed successfully.\n",
      "Batch grid created in 101.55415630340576 seconds for batch 734000_6026000\n",
      "creating grid completed successfully.\n",
      "Batch grid created in 100.10859942436218 seconds for batch 744000_6041000\n",
      "creating grid completed successfully.\n",
      "Batch grid created in 101.5910370349884 seconds for batch 734000_6021000\n",
      "creating grid completed successfully.\n",
      "creating grid completed successfully.Batch grid created in 104.17463278770447 seconds for batch 714000_6051000\n",
      "\n",
      "Batch grid created in 103.86144781112671 seconds for batch 719000_6051000\n"
     ]
    },
    {
     "name": "stderr",
     "output_type": "stream",
     "text": [
      "batch_list:  60%|\u001b[34m██████    \u001b[0m| 281/465 [03:32<00:34,  5.28it/s]Logged warning: Duplicate provider native registered\n",
      "Logged warning: Duplicate provider native registered\n",
      "Logged warning: Duplicate provider native registered\n",
      "batch_list:  61%|\u001b[34m██████    \u001b[0m| 284/465 [03:32<00:25,  7.04it/s]Logged warning: Duplicate provider native registered\n",
      "Logged warning: Duplicate provider native registered\n",
      "Logged warning: Duplicate provider native registered\n",
      "Logged warning: Duplicate provider native registered\n",
      "Logged warning: Duplicate provider native registered\n",
      "batch_list:  62%|\u001b[34m██████▏   \u001b[0m| 289/465 [03:32<00:16, 10.89it/s]Logged warning: Duplicate provider native registered\n",
      "batch_list:  63%|\u001b[34m██████▎   \u001b[0m| 294/465 [03:32<00:11, 15.22it/s]"
     ]
    },
    {
     "name": "stdout",
     "output_type": "stream",
     "text": [
      "creating grid completed successfully.\n",
      "Batch grid created in 108.63161158561707 seconds for batch 699000_6006000\n"
     ]
    },
    {
     "name": "stderr",
     "output_type": "stream",
     "text": [
      "batch_list:  64%|\u001b[34m██████▍   \u001b[0m| 298/465 [03:33<00:12, 12.92it/s]"
     ]
    },
    {
     "name": "stdout",
     "output_type": "stream",
     "text": [
      "creating grid completed successfully.\n",
      "Batch grid created in 104.66628980636597 seconds for batch 719000_6021000\n",
      "creating grid completed successfully.\n",
      "Batch grid created in 103.80461168289185 seconds for batch 729000_6056000\n"
     ]
    },
    {
     "name": "stderr",
     "output_type": "stream",
     "text": [
      "batch_list:  65%|\u001b[34m██████▌   \u001b[0m| 303/465 [03:33<00:09, 17.41it/s]"
     ]
    },
    {
     "name": "stdout",
     "output_type": "stream",
     "text": [
      "creating grid completed successfully.\n",
      "Batch grid created in 103.64937281608582 seconds for batch 729000_6026000\n",
      "creating grid completed successfully.\n",
      "Batch grid created in 109.95616006851196 seconds for batch 699000_6026000\n",
      "creating grid completed successfully.\n",
      "Batch grid created in 104.9872465133667 seconds for batch 719000_6061000\n",
      "creating grid completed successfully.\n",
      "Batch grid created in 105.32531070709229 seconds for batch 714000_6056000\n"
     ]
    },
    {
     "name": "stderr",
     "output_type": "stream",
     "text": [
      "batch_list:  66%|\u001b[34m██████▌   \u001b[0m| 307/465 [03:33<00:10, 15.04it/s]"
     ]
    },
    {
     "name": "stdout",
     "output_type": "stream",
     "text": [
      "creating grid completed successfully.\n",
      "Batch grid created in 105.51613855361938 seconds for batch 714000_6006000\n"
     ]
    },
    {
     "name": "stderr",
     "output_type": "stream",
     "text": [
      "batch_list:  67%|\u001b[34m██████▋   \u001b[0m| 312/465 [03:34<00:08, 18.16it/s]"
     ]
    },
    {
     "name": "stdout",
     "output_type": "stream",
     "text": [
      "creating grid completed successfully.\n",
      "Batch grid created in 101.96344304084778 seconds for batch 739000_6016000\n",
      "creating grid completed successfully.\n",
      "Batch grid created in 107.19843912124634 seconds for batch 709000_6061000\n"
     ]
    },
    {
     "name": "stderr",
     "output_type": "stream",
     "text": [
      "batch_list:  70%|\u001b[34m██████▉   \u001b[0m| 324/465 [03:34<00:05, 26.63it/s]"
     ]
    },
    {
     "name": "stdout",
     "output_type": "stream",
     "text": [
      "creating grid completed successfully.\n",
      "Batch grid created in 103.16410374641418 seconds for batch 739000_6056000\n",
      "creating grid completed successfully.\n",
      "Batch grid created in 104.72750067710876 seconds for batch 729000_6041000\n",
      "creating grid completed successfully.\n",
      "Batch grid created in 106.18899440765381 seconds for batch 714000_6026000\n"
     ]
    },
    {
     "name": "stderr",
     "output_type": "stream",
     "text": [
      "batch_list:  72%|\u001b[34m███████▏  \u001b[0m| 335/465 [03:35<00:06, 20.68it/s]"
     ]
    },
    {
     "name": "stdout",
     "output_type": "stream",
     "text": [
      "creating grid completed successfully.\n",
      "Batch grid created in 102.8968677520752 seconds for batch 744000_6051000\n"
     ]
    },
    {
     "name": "stderr",
     "output_type": "stream",
     "text": [
      "batch_list:  74%|\u001b[34m███████▍  \u001b[0m| 346/465 [03:36<00:10, 11.00it/s]"
     ]
    },
    {
     "name": "stdout",
     "output_type": "stream",
     "text": [
      "creating grid completed successfully.\n",
      "Batch grid created in 86.2973325252533 seconds for batch 749000_6031000\n"
     ]
    },
    {
     "name": "stderr",
     "output_type": "stream",
     "text": [
      "batch_list:  75%|\u001b[34m███████▌  \u001b[0m| 351/465 [03:36<00:12,  9.49it/s]"
     ]
    },
    {
     "name": "stdout",
     "output_type": "stream",
     "text": [
      "creating grid completed successfully.\n",
      "Batch grid created in 81.81446933746338 seconds for batch 749000_6021000\n"
     ]
    },
    {
     "name": "stderr",
     "output_type": "stream",
     "text": [
      "batch_list:  76%|\u001b[34m███████▌  \u001b[0m| 353/465 [03:50<03:14,  1.74s/it]"
     ]
    },
    {
     "name": "stdout",
     "output_type": "stream",
     "text": [
      "creating grid completed successfully.\n",
      "Batch grid created in 87.18483829498291 seconds for batch 749000_6026000\n"
     ]
    },
    {
     "name": "stderr",
     "output_type": "stream",
     "text": [
      "batch_list:  76%|\u001b[34m███████▌  \u001b[0m| 354/465 [03:52<03:12,  1.74s/it]"
     ]
    },
    {
     "name": "stdout",
     "output_type": "stream",
     "text": [
      "creating grid completed successfully.\n",
      "Batch grid created in 75.26276755332947 seconds for batch 749000_6016000\n",
      "creating grid completed successfully.\n",
      "Batch grid created in 81.51721334457397 seconds for batch 749000_6011000\n"
     ]
    },
    {
     "name": "stderr",
     "output_type": "stream",
     "text": [
      "batch_list:  77%|\u001b[34m███████▋  \u001b[0m| 356/465 [04:02<05:06,  2.81s/it]"
     ]
    },
    {
     "name": "stdout",
     "output_type": "stream",
     "text": [
      "creating grid completed successfully.\n",
      "Batch grid created in 67.32752895355225 seconds for batch 754000_6051000\n",
      "creating grid completed successfully.\n",
      "Batch grid created in 66.10114693641663 seconds for batch 754000_6006000\n",
      "creating grid completed successfully.\n",
      "Batch grid created in 71.13562417030334 seconds for batch 749000_6001000\n",
      "creating grid completed successfully.\n",
      "Batch grid created in 67.67478084564209 seconds for batch 754000_6021000\n",
      "creating grid completed successfully.\n",
      "Batch grid created in 67.73304748535156 seconds for batch 754000_6026000\n",
      "NN output tile /mnt/datapool1/datapool1/datasets/nvis_outputs/NVIS_8L_fm_mape_r1_KI2020/temp/754000_6006000_nn_tile.tif does not exist, skipping.NN output tile /mnt/datapool1/datapool1/datasets/nvis_outputs/NVIS_8L_fm_mape_r1_KI2020/temp/754000_6021000_nn_tile.tif does not exist, skipping.NN output tile /mnt/datapool1/datapool1/datasets/nvis_outputs/NVIS_8L_fm_mape_r1_KI2020/temp/754000_6026000_nn_tile.tif does not exist, skipping.\n",
      "\n",
      "\n"
     ]
    },
    {
     "name": "stderr",
     "output_type": "stream",
     "text": [
      "batch_list:  77%|\u001b[34m███████▋  \u001b[0m| 357/465 [04:10<06:42,  3.72s/it]"
     ]
    },
    {
     "name": "stdout",
     "output_type": "stream",
     "text": [
      "creating grid completed successfully.\n",
      "Batch grid created in 68.46032381057739 seconds for batch 754000_6031000\n",
      "creating grid completed successfully.\n",
      "Batch grid created in 71.37898373603821 seconds for batch 749000_5996000\n",
      "creating grid completed successfully.\n",
      "Batch grid created in 70.76529288291931 seconds for batch 749000_5991000\n",
      "NN output tile /mnt/datapool1/datapool1/datasets/nvis_outputs/NVIS_8L_fm_mape_r1_KI2020/temp/754000_6031000_nn_tile.tif does not exist, skipping.NN output tile /mnt/datapool1/datapool1/datasets/nvis_outputs/NVIS_8L_fm_mape_r1_KI2020/temp/749000_5991000_nn_tile.tif does not exist, skipping.NN output tile /mnt/datapool1/datapool1/datasets/nvis_outputs/NVIS_8L_fm_mape_r1_KI2020/temp/749000_5996000_nn_tile.tif does not exist, skipping.\n",
      "\n",
      "\n"
     ]
    },
    {
     "name": "stderr",
     "output_type": "stream",
     "text": [
      "batch_list:  77%|\u001b[34m███████▋  \u001b[0m| 360/465 [04:11<03:53,  2.22s/it]"
     ]
    },
    {
     "name": "stdout",
     "output_type": "stream",
     "text": [
      "creating grid completed successfully.\n",
      "Batch grid created in 60.868934869766235 seconds for batch 764000_6016000\n",
      "NN output tile /mnt/datapool1/datapool1/datasets/nvis_outputs/NVIS_8L_fm_mape_r1_KI2020/temp/764000_6016000_nn_tile.tif does not exist, skipping.\n"
     ]
    },
    {
     "name": "stderr",
     "output_type": "stream",
     "text": [
      "batch_list:  78%|\u001b[34m███████▊  \u001b[0m| 365/465 [04:12<01:55,  1.16s/it]"
     ]
    },
    {
     "name": "stdout",
     "output_type": "stream",
     "text": [
      "creating grid completed successfully.\n",
      "Batch grid created in 72.14727425575256 seconds for batch 754000_6061000\n",
      "creating grid completed successfully.\n",
      "Batch grid created in 69.04402470588684 seconds for batch 754000_5991000\n",
      "creating grid completed successfully.\n",
      "Batch grid created in 71.6521806716919 seconds for batch 754000_6046000\n",
      "NN output tile /mnt/datapool1/datapool1/datasets/nvis_outputs/NVIS_8L_fm_mape_r1_KI2020/temp/754000_5991000_nn_tile.tif does not exist, skipping.\n"
     ]
    },
    {
     "name": "stderr",
     "output_type": "stream",
     "text": [
      "batch_list:  79%|\u001b[34m███████▊  \u001b[0m| 366/465 [04:15<02:21,  1.42s/it]"
     ]
    },
    {
     "name": "stdout",
     "output_type": "stream",
     "text": [
      "creating grid completed successfully.\n",
      "Batch grid created in 71.25245833396912 seconds for batch 754000_5996000\n",
      "NN output tile /mnt/datapool1/datapool1/datasets/nvis_outputs/NVIS_8L_fm_mape_r1_KI2020/temp/754000_5996000_nn_tile.tif does not exist, skipping.\n"
     ]
    },
    {
     "name": "stderr",
     "output_type": "stream",
     "text": [
      "batch_list:  79%|\u001b[34m███████▉  \u001b[0m| 367/465 [04:16<02:26,  1.49s/it]"
     ]
    },
    {
     "name": "stdout",
     "output_type": "stream",
     "text": [
      "creating grid completed successfully.\n",
      "Batch grid created in 70.44836497306824 seconds for batch 759000_6046000\n",
      "creating grid completed successfully.\n",
      "Batch grid created in 74.72804665565491 seconds for batch 754000_6041000\n",
      "creating grid completed successfully.\n",
      "Batch grid created in 73.52652382850647 seconds for batch 754000_6011000\n",
      "creating grid completed successfully.\n",
      "Batch grid created in 69.40338492393494 seconds for batch 759000_6036000\n",
      "NN output tile /mnt/datapool1/datapool1/datasets/nvis_outputs/NVIS_8L_fm_mape_r1_KI2020/temp/759000_6036000_nn_tile.tif does not exist, skipping.NN output tile /mnt/datapool1/datapool1/datasets/nvis_outputs/NVIS_8L_fm_mape_r1_KI2020/temp/759000_6046000_nn_tile.tif does not exist, skipping.NN output tile /mnt/datapool1/datapool1/datasets/nvis_outputs/NVIS_8L_fm_mape_r1_KI2020/temp/754000_6041000_nn_tile.tif does not exist, skipping.NN output tile /mnt/datapool1/datapool1/datasets/nvis_outputs/NVIS_8L_fm_mape_r1_KI2020/temp/754000_6011000_nn_tile.tif does not exist, skipping.\n",
      "\n",
      "\n"
     ]
    },
    {
     "name": "stderr",
     "output_type": "stream",
     "text": [
      "batch_list:  79%|\u001b[34m███████▉  \u001b[0m| 368/465 [04:17<02:14,  1.38s/it]"
     ]
    },
    {
     "name": "stdout",
     "output_type": "stream",
     "text": [
      "\n",
      "creating grid completed successfully.\n",
      "Batch grid created in 75.4013934135437 seconds for batch 754000_6036000\n",
      "creating grid completed successfully.\n",
      "Batch grid created in 76.61806845664978 seconds for batch 754000_6056000\n"
     ]
    },
    {
     "name": "stderr",
     "output_type": "stream",
     "text": [
      "batch_list:  80%|\u001b[34m████████  \u001b[0m| 372/465 [04:18<01:01,  1.51it/s]"
     ]
    },
    {
     "name": "stdout",
     "output_type": "stream",
     "text": [
      "creating grid completed successfully.\n",
      "Batch grid created in 71.64243412017822 seconds for batch 759000_6051000\n",
      "creating grid completed successfully.\n",
      "Batch grid created in 71.69843769073486 seconds for batch 759000_6061000\n",
      "NN output tile /mnt/datapool1/datapool1/datasets/nvis_outputs/NVIS_8L_fm_mape_r1_KI2020/temp/759000_6061000_nn_tile.tif does not exist, skipping.NN output tile /mnt/datapool1/datapool1/datasets/nvis_outputs/NVIS_8L_fm_mape_r1_KI2020/temp/754000_6036000_nn_tile.tif does not exist, skipping.NN output tile /mnt/datapool1/datapool1/datasets/nvis_outputs/NVIS_8L_fm_mape_r1_KI2020/temp/759000_6051000_nn_tile.tif does not exist, skipping.\n"
     ]
    },
    {
     "name": "stderr",
     "output_type": "stream",
     "text": [
      "batch_list:  80%|\u001b[34m████████  \u001b[0m| 374/465 [04:18<00:46,  1.96it/s]"
     ]
    },
    {
     "name": "stdout",
     "output_type": "stream",
     "text": [
      "\n",
      "\n",
      "creating grid completed successfully.\n",
      "Batch grid created in 69.2486481666565 seconds for batch 759000_6031000\n",
      "creating grid completed successfully.\n",
      "Batch grid created in 75.7064208984375 seconds for batch 754000_6016000\n",
      "creating grid completed successfully.\n",
      "Batch grid created in 69.63844847679138 seconds for batch 759000_6006000\n",
      "NN output tile /mnt/datapool1/datapool1/datasets/nvis_outputs/NVIS_8L_fm_mape_r1_KI2020/temp/754000_6016000_nn_tile.tif does not exist, skipping.NN output tile /mnt/datapool1/datapool1/datasets/nvis_outputs/NVIS_8L_fm_mape_r1_KI2020/temp/759000_6031000_nn_tile.tif does not exist, skipping.NN output tile /mnt/datapool1/datapool1/datasets/nvis_outputs/NVIS_8L_fm_mape_r1_KI2020/temp/759000_6006000_nn_tile.tif does not exist, skipping.\n",
      "\n",
      "\n"
     ]
    },
    {
     "name": "stderr",
     "output_type": "stream",
     "text": [
      "batch_list:  81%|\u001b[34m████████  \u001b[0m| 377/465 [04:19<00:33,  2.61it/s]"
     ]
    },
    {
     "name": "stdout",
     "output_type": "stream",
     "text": [
      "creating grid completed successfully.\n",
      "Batch grid created in 69.96083903312683 seconds for batch 759000_6021000\n",
      "creating grid completed successfully.\n",
      "Batch grid created in 75.56018877029419 seconds for batch 754000_6001000\n",
      "creating grid completed successfully.\n",
      "Batch grid created in 66.73135757446289 seconds for batch 769000_6021000\n",
      "NN output tile /mnt/datapool1/datapool1/datasets/nvis_outputs/NVIS_8L_fm_mape_r1_KI2020/temp/754000_6001000_nn_tile.tif does not exist, skipping.NN output tile /mnt/datapool1/datapool1/datasets/nvis_outputs/NVIS_8L_fm_mape_r1_KI2020/temp/769000_6021000_nn_tile.tif does not exist, skipping.NN output tile /mnt/datapool1/datapool1/datasets/nvis_outputs/NVIS_8L_fm_mape_r1_KI2020/temp/759000_6021000_nn_tile.tif does not exist, skipping.\n",
      "\n",
      "\n"
     ]
    },
    {
     "name": "stderr",
     "output_type": "stream",
     "text": [
      "batch_list:  82%|\u001b[34m████████▏ \u001b[0m| 383/465 [04:20<00:27,  3.04it/s]"
     ]
    },
    {
     "name": "stdout",
     "output_type": "stream",
     "text": [
      "creating grid completed successfully.\n",
      "Batch grid created in 70.6495795249939 seconds for batch 764000_6036000\n",
      "creating grid completed successfully.\n",
      "Batch grid created in 68.44979047775269 seconds for batch 769000_6011000\n",
      "NN output tile /mnt/datapool1/datapool1/datasets/nvis_outputs/NVIS_8L_fm_mape_r1_KI2020/temp/769000_6011000_nn_tile.tif does not exist, skipping.NN output tile /mnt/datapool1/datapool1/datasets/nvis_outputs/NVIS_8L_fm_mape_r1_KI2020/temp/764000_6036000_nn_tile.tif does not exist, skipping.\n",
      "\n"
     ]
    },
    {
     "name": "stderr",
     "output_type": "stream",
     "text": [
      "batch_list:  83%|\u001b[34m████████▎ \u001b[0m| 384/465 [04:21<00:33,  2.44it/s]"
     ]
    },
    {
     "name": "stdout",
     "output_type": "stream",
     "text": [
      "creating grid completed successfully.\n",
      "Batch grid created in 83.11943030357361 seconds for batch 749000_6006000\n",
      "creating grid completed successfully.\n",
      "Batch grid created in 72.39302468299866 seconds for batch 764000_6026000\n",
      "creating grid completed successfully.\n",
      "Batch grid created in 73.44125461578369 seconds for batch 759000_6001000\n",
      "creating grid completed successfully.\n",
      "Batch grid created in 76.43374252319336 seconds for batch 759000_6041000\n",
      "NN output tile /mnt/datapool1/datapool1/datasets/nvis_outputs/NVIS_8L_fm_mape_r1_KI2020/temp/759000_6001000_nn_tile.tif does not exist, skipping.NN output tile /mnt/datapool1/datapool1/datasets/nvis_outputs/NVIS_8L_fm_mape_r1_KI2020/temp/764000_6026000_nn_tile.tif does not exist, skipping.NN output tile /mnt/datapool1/datapool1/datasets/nvis_outputs/NVIS_8L_fm_mape_r1_KI2020/temp/759000_6041000_nn_tile.tif does not exist, skipping.\n",
      "\n",
      "\n"
     ]
    },
    {
     "name": "stderr",
     "output_type": "stream",
     "text": [
      "batch_list:  83%|\u001b[34m████████▎ \u001b[0m| 386/465 [04:23<00:39,  1.99it/s]"
     ]
    },
    {
     "name": "stdout",
     "output_type": "stream",
     "text": [
      "creating grid completed successfully.\n",
      "Batch grid created in 72.0298068523407 seconds for batch 769000_6056000\n",
      "creating grid completed successfully.\n",
      "Batch grid created in 71.59183597564697 seconds for batch 769000_6036000\n",
      "creating grid completed successfully.\n",
      "Batch grid created in 67.79257893562317 seconds for batch 769000_5991000\n",
      "NN output tile /mnt/datapool1/datapool1/datasets/nvis_outputs/NVIS_8L_fm_mape_r1_KI2020/temp/769000_6056000_nn_tile.tif does not exist, skipping.NN output tile /mnt/datapool1/datapool1/datasets/nvis_outputs/NVIS_8L_fm_mape_r1_KI2020/temp/769000_6036000_nn_tile.tif does not exist, skipping.NN output tile /mnt/datapool1/datapool1/datasets/nvis_outputs/NVIS_8L_fm_mape_r1_KI2020/temp/769000_5991000_nn_tile.tif does not exist, skipping.\n",
      "\n",
      "\n"
     ]
    },
    {
     "name": "stderr",
     "output_type": "stream",
     "text": [
      "batch_list:  84%|\u001b[34m████████▎ \u001b[0m| 389/465 [04:23<00:27,  2.79it/s]"
     ]
    },
    {
     "name": "stdout",
     "output_type": "stream",
     "text": [
      "creating grid completed successfully.\n",
      "Batch grid created in 74.36108446121216 seconds for batch 759000_6011000\n",
      "creating grid completed successfully.\n",
      "Batch grid created in 52.64932084083557 seconds for batch 779000_6031000\n",
      "NN output tile /mnt/datapool1/datapool1/datasets/nvis_outputs/NVIS_8L_fm_mape_r1_KI2020/temp/759000_6011000_nn_tile.tif does not exist, skipping.NN output tile /mnt/datapool1/datapool1/datasets/nvis_outputs/NVIS_8L_fm_mape_r1_KI2020/temp/779000_6031000_nn_tile.tif does not exist, skipping.\n"
     ]
    },
    {
     "name": "stderr",
     "output_type": "stream",
     "text": [
      "batch_list:  84%|\u001b[34m████████▍ \u001b[0m| 392/465 [04:24<00:21,  3.45it/s]"
     ]
    },
    {
     "name": "stdout",
     "output_type": "stream",
     "text": [
      "\n",
      "creating grid completed successfully.\n",
      "Batch grid created in 72.90771436691284 seconds for batch 764000_5991000\n",
      "creating grid completed successfully.\n",
      "Batch grid created in 75.14890027046204 seconds for batch 759000_6026000\n",
      "creating grid completed successfully.\n",
      "Batch grid created in 72.80615949630737 seconds for batch 769000_6051000\n",
      "creating grid completed successfully.\n",
      "Batch grid created in 74.01319169998169 seconds for batch 764000_6051000\n",
      "NN output tile /mnt/datapool1/datapool1/datasets/nvis_outputs/NVIS_8L_fm_mape_r1_KI2020/temp/759000_6026000_nn_tile.tif does not exist, skipping.NN output tile /mnt/datapool1/datapool1/datasets/nvis_outputs/NVIS_8L_fm_mape_r1_KI2020/temp/769000_6051000_nn_tile.tif does not exist, skipping.NN output tile /mnt/datapool1/datapool1/datasets/nvis_outputs/NVIS_8L_fm_mape_r1_KI2020/temp/764000_6051000_nn_tile.tif does not exist, skipping.NN output tile /mnt/datapool1/datapool1/datasets/nvis_outputs/NVIS_8L_fm_mape_r1_KI2020/temp/764000_5991000_nn_tile.tif does not exist, skipping.\n",
      "\n",
      "\n"
     ]
    },
    {
     "name": "stderr",
     "output_type": "stream",
     "text": [
      "batch_list:  85%|\u001b[34m████████▍ \u001b[0m| 394/465 [04:24<00:18,  3.79it/s]"
     ]
    },
    {
     "name": "stdout",
     "output_type": "stream",
     "text": [
      "\n",
      "creating grid completed successfully.\n",
      "Batch grid created in 67.46523928642273 seconds for batch 774000_6046000\n",
      "creating grid completed successfully.\n",
      "Batch grid created in 61.39203929901123 seconds for batch 774000_6021000\n",
      "creating grid completed successfully.\n",
      "Batch grid created in 73.57070469856262 seconds for batch 764000_6006000\n",
      "creating grid completed successfully.\n",
      "Batch grid created in 73.47524356842041 seconds for batch 769000_6061000\n",
      "NN output tile /mnt/datapool1/datapool1/datasets/nvis_outputs/NVIS_8L_fm_mape_r1_KI2020/temp/774000_6021000_nn_tile.tif does not exist, skipping.NN output tile /mnt/datapool1/datapool1/datasets/nvis_outputs/NVIS_8L_fm_mape_r1_KI2020/temp/774000_6046000_nn_tile.tif does not exist, skipping.NN output tile /mnt/datapool1/datapool1/datasets/nvis_outputs/NVIS_8L_fm_mape_r1_KI2020/temp/769000_6061000_nn_tile.tif does not exist, skipping.NN output tile /mnt/datapool1/datapool1/datasets/nvis_outputs/NVIS_8L_fm_mape_r1_KI2020/temp/764000_6006000_nn_tile.tif does not exist, skipping.\n"
     ]
    },
    {
     "name": "stderr",
     "output_type": "stream",
     "text": [
      "batch_list:  86%|\u001b[34m████████▌ \u001b[0m| 399/465 [04:24<00:11,  5.55it/s]"
     ]
    },
    {
     "name": "stdout",
     "output_type": "stream",
     "text": [
      "\n",
      "\n",
      "\n",
      "creating grid completed successfully.\n",
      "Batch grid created in 72.2972457408905 seconds for batch 769000_6006000\n",
      "creating grid completed successfully.\n",
      "Batch grid created in 54.43275761604309 seconds for batch 779000_6016000\n",
      "creating grid completed successfully.\n",
      "Batch grid created in 74.37382650375366 seconds for batch 764000_5996000\n",
      "NN output tile /mnt/datapool1/datapool1/datasets/nvis_outputs/NVIS_8L_fm_mape_r1_KI2020/temp/779000_6016000_nn_tile.tif does not exist, skipping.NN output tile /mnt/datapool1/datapool1/datasets/nvis_outputs/NVIS_8L_fm_mape_r1_KI2020/temp/769000_6006000_nn_tile.tif does not exist, skipping.NN output tile /mnt/datapool1/datapool1/datasets/nvis_outputs/NVIS_8L_fm_mape_r1_KI2020/temp/764000_5996000_nn_tile.tif does not exist, skipping.\n",
      "\n",
      "\n"
     ]
    },
    {
     "name": "stderr",
     "output_type": "stream",
     "text": [
      "batch_list:  87%|\u001b[34m████████▋ \u001b[0m| 403/465 [04:25<00:12,  5.08it/s]"
     ]
    },
    {
     "name": "stdout",
     "output_type": "stream",
     "text": [
      "creating grid completed successfully.\n",
      "Batch grid created in 79.17731404304504 seconds for batch 759000_6056000\n",
      "creating grid completed successfully.\n",
      "Batch grid created in 75.44638085365295 seconds for batch 764000_6056000\n",
      "creating grid completed successfully.\n",
      "Batch grid created in 54.74600005149841 seconds for batch 779000_6001000\n",
      "creating grid completed successfully.\n",
      "Batch grid created in 74.31387591362 seconds for batch 769000_6041000\n",
      "creating grid completed successfully.\n",
      "Batch grid created in 76.83179521560669 seconds for batch 759000_6016000\n",
      "creating grid completed successfully.\n",
      "Batch grid created in 54.989585638046265 seconds for batch 779000_6006000\n",
      "creating grid completed successfully.\n",
      "Batch grid created in 75.80610203742981 seconds for batch 759000_5991000\n",
      "creating grid completed successfully.\n",
      "Batch grid created in 70.64088201522827 seconds for batch 769000_5996000\n",
      "creating grid completed successfully.\n",
      "Batch grid created in 57.4759635925293 seconds for batch 779000_6061000\n",
      "creating grid completed successfully.\n",
      "Batch grid created in 73.34751224517822 seconds for batch 769000_6031000\n",
      "creating grid completed successfully.\n",
      "Batch grid created in 54.63580656051636 seconds for batch 784000_6056000\n",
      "creating grid completed successfully.\n",
      "Batch grid created in 73.14105319976807 seconds for batch 769000_6016000\n",
      "creating grid completed successfully.\n",
      "NN output tile /mnt/datapool1/datapool1/datasets/nvis_outputs/NVIS_8L_fm_mape_r1_KI2020/temp/769000_6041000_nn_tile.tif does not exist, skipping.NN output tile /mnt/datapool1/datapool1/datasets/nvis_outputs/NVIS_8L_fm_mape_r1_KI2020/temp/764000_6056000_nn_tile.tif does not exist, skipping.NN output tile /mnt/datapool1/datapool1/datasets/nvis_outputs/NVIS_8L_fm_mape_r1_KI2020/temp/779000_6001000_nn_tile.tif does not exist, skipping.Batch grid created in 76.07549858093262 seconds for batch 764000_6046000NN output tile /mnt/datapool1/datapool1/datasets/nvis_outputs/NVIS_8L_fm_mape_r1_KI2020/temp/769000_6031000_nn_tile.tif does not exist, skipping.NN output tile /mnt/datapool1/datapool1/datasets/nvis_outputs/NVIS_8L_fm_mape_r1_KI2020/temp/769000_5996000_nn_tile.tif does not exist, skipping.NN output tile /mnt/datapool1/datapool1/datasets/nvis_outputs/NVIS_8L_fm_mape_r1_KI2020/temp/759000_6056000_nn_tile.tif does not exist, skipping.NN output tile /mnt/datapool1/datapool1/datasets/nvis_outputs/NVIS_8L_fm_mape_r1_KI2020/temp/779000_6006000_nn_tile.tif does not exist, skipping.NN output tile /mnt/datapool1/datapool1/datasets/nvis_outputs/NVIS_8L_fm_mape_r1_KI2020/temp/769000_6016000_nn_tile.tif does not exist, skipping.NN output tile /mnt/datapool1/datapool1/datasets/nvis_outputs/NVIS_8L_fm_mape_r1_KI2020/temp/759000_5991000_nn_tile.tif does not exist, skipping.NN output tile /mnt/datapool1/datapool1/datasets/nvis_outputs/NVIS_8L_fm_mape_r1_KI2020/temp/759000_6016000_nn_tile.tif does not exist, skipping.NN output tile /mnt/datapool1/datapool1/datasets/nvis_outputs/NVIS_8L_fm_mape_r1_KI2020/temp/779000_6061000_nn_tile.tif does not exist, skipping.NN output tile /mnt/datapool1/datapool1/datasets/nvis_outputs/NVIS_8L_fm_mape_r1_KI2020/temp/784000_6056000_nn_tile.tif does not exist, skipping.\n",
      "\n"
     ]
    },
    {
     "name": "stderr",
     "output_type": "stream",
     "text": [
      "batch_list:  87%|\u001b[34m████████▋ \u001b[0m| 406/465 [04:26<00:12,  4.75it/s]"
     ]
    },
    {
     "name": "stdout",
     "output_type": "stream",
     "text": [
      "\n",
      "\n",
      "\n",
      "\n",
      "\n",
      "\n",
      "\n",
      "\n",
      "\n",
      "\n",
      "\n",
      "creating grid completed successfully.\n",
      "Batch grid created in 60.137943267822266 seconds for batch 774000_6011000\n",
      "creating grid completed successfully.\n",
      "Batch grid created in 75.04297161102295 seconds for batch 769000_6046000\n",
      "creating grid completed successfully.\n",
      "Batch grid created in 73.89346408843994 seconds for batch 769000_6026000\n",
      "creating grid completed successfully.\n",
      "Batch grid created in 76.40368008613586 seconds for batch 764000_6061000\n",
      "NN output tile /mnt/datapool1/datapool1/datasets/nvis_outputs/NVIS_8L_fm_mape_r1_KI2020/temp/764000_6061000_nn_tile.tif does not exist, skipping.\n"
     ]
    },
    {
     "name": "stderr",
     "output_type": "stream",
     "text": [
      "batch_list:  90%|\u001b[34m████████▉ \u001b[0m| 418/465 [04:26<00:04, 10.47it/s]"
     ]
    },
    {
     "name": "stdout",
     "output_type": "stream",
     "text": [
      "creating grid completed successfully.\n",
      "Batch grid created in 69.77132439613342 seconds for batch 774000_6051000\n",
      "NN output tile /mnt/datapool1/datapool1/datasets/nvis_outputs/NVIS_8L_fm_mape_r1_KI2020/temp/774000_6011000_nn_tile.tif does not exist, skipping.NN output tile /mnt/datapool1/datapool1/datasets/nvis_outputs/NVIS_8L_fm_mape_r1_KI2020/temp/764000_6046000_nn_tile.tif does not exist, skipping.NN output tile /mnt/datapool1/datapool1/datasets/nvis_outputs/NVIS_8L_fm_mape_r1_KI2020/temp/769000_6046000_nn_tile.tif does not exist, skipping.NN output tile /mnt/datapool1/datapool1/datasets/nvis_outputs/NVIS_8L_fm_mape_r1_KI2020/temp/769000_6026000_nn_tile.tif does not exist, skipping.NN output tile /mnt/datapool1/datapool1/datasets/nvis_outputs/NVIS_8L_fm_mape_r1_KI2020/temp/774000_6051000_nn_tile.tif does not exist, skipping.\n",
      "\n"
     ]
    },
    {
     "name": "stderr",
     "output_type": "stream",
     "text": [
      "batch_list:  90%|\u001b[34m█████████ \u001b[0m| 420/465 [04:27<00:04, 10.54it/s]"
     ]
    },
    {
     "name": "stdout",
     "output_type": "stream",
     "text": [
      "\n",
      "\n",
      "\n",
      "creating grid completed successfully.\n",
      "Batch grid created in 76.6117000579834 seconds for batch 764000_6021000\n",
      "creating grid completed successfully.\n",
      "Batch grid created in 74.02591300010681 seconds for batch 769000_6001000\n",
      "creating grid completed successfully.\n",
      "Batch grid created in 76.6846616268158 seconds for batch 764000_6011000\n",
      "NN output tile /mnt/datapool1/datapool1/datasets/nvis_outputs/NVIS_8L_fm_mape_r1_KI2020/temp/764000_6021000_nn_tile.tif does not exist, skipping.NN output tile /mnt/datapool1/datapool1/datasets/nvis_outputs/NVIS_8L_fm_mape_r1_KI2020/temp/769000_6001000_nn_tile.tif does not exist, skipping.NN output tile /mnt/datapool1/datapool1/datasets/nvis_outputs/NVIS_8L_fm_mape_r1_KI2020/temp/764000_6011000_nn_tile.tif does not exist, skipping.\n",
      "\n"
     ]
    },
    {
     "name": "stderr",
     "output_type": "stream",
     "text": [
      "batch_list:  91%|\u001b[34m█████████ \u001b[0m| 424/465 [04:27<00:03, 10.77it/s]"
     ]
    },
    {
     "name": "stdout",
     "output_type": "stream",
     "text": [
      "\n",
      "creating grid completed successfully.\n",
      "Batch grid created in 76.01940488815308 seconds for batch 764000_6001000\n",
      "creating grid completed successfully.\n",
      "Batch grid created in 70.50242590904236 seconds for batch 774000_6061000\n",
      "creating grid completed successfully.\n",
      "Batch grid created in 70.76647281646729 seconds for batch 774000_6056000\n",
      "NN output tile /mnt/datapool1/datapool1/datasets/nvis_outputs/NVIS_8L_fm_mape_r1_KI2020/temp/764000_6001000_nn_tile.tif does not exist, skipping.NN output tile /mnt/datapool1/datapool1/datasets/nvis_outputs/NVIS_8L_fm_mape_r1_KI2020/temp/774000_6061000_nn_tile.tif does not exist, skipping.NN output tile /mnt/datapool1/datapool1/datasets/nvis_outputs/NVIS_8L_fm_mape_r1_KI2020/temp/774000_6056000_nn_tile.tif does not exist, skipping.\n",
      "\n"
     ]
    },
    {
     "name": "stderr",
     "output_type": "stream",
     "text": [
      "batch_list:  92%|\u001b[34m█████████▏\u001b[0m| 427/465 [04:27<00:03,  9.96it/s]"
     ]
    },
    {
     "name": "stdout",
     "output_type": "stream",
     "text": [
      "\n",
      "creating grid completed successfully.\n",
      "Batch grid created in 70.36166858673096 seconds for batch 774000_6041000\n",
      "creating grid completed successfully.\n",
      "Batch grid created in 57.130621671676636 seconds for batch 779000_5996000\n",
      "creating grid completed successfully.\n",
      "Batch grid created in 55.901302337646484 seconds for batch 784000_6006000\n",
      "NN output tile /mnt/datapool1/datapool1/datasets/nvis_outputs/NVIS_8L_fm_mape_r1_KI2020/temp/779000_5996000_nn_tile.tif does not exist, skipping.NN output tile /mnt/datapool1/datapool1/datasets/nvis_outputs/NVIS_8L_fm_mape_r1_KI2020/temp/774000_6041000_nn_tile.tif does not exist, skipping.NN output tile /mnt/datapool1/datapool1/datasets/nvis_outputs/NVIS_8L_fm_mape_r1_KI2020/temp/784000_6006000_nn_tile.tif does not exist, skipping.\n",
      "\n",
      "\n"
     ]
    },
    {
     "name": "stderr",
     "output_type": "stream",
     "text": [
      "batch_list:  92%|\u001b[34m█████████▏\u001b[0m| 430/465 [04:28<00:05,  6.36it/s]"
     ]
    },
    {
     "name": "stdout",
     "output_type": "stream",
     "text": [
      "creating grid completed successfully.\n",
      "Batch grid created in 58.871339321136475 seconds for batch 779000_6041000\n",
      "creating grid completed successfully.\n",
      "Batch grid created in 56.95573163032532 seconds for batch 784000_6036000\n",
      "creating grid completed successfully.\n",
      "Batch grid created in 59.143938302993774 seconds for batch 779000_6051000\n",
      "creating grid completed successfully.\n",
      "Batch grid created in 68.91492176055908 seconds for batch 774000_6031000\n",
      "creating grid completed successfully.\n",
      "Batch grid created in 56.28759145736694 seconds for batch 784000_5996000\n",
      "creating grid completed successfully.\n",
      "Batch grid created in 59.44426083564758 seconds for batch 779000_6056000\n",
      "NN output tile /mnt/datapool1/datapool1/datasets/nvis_outputs/NVIS_8L_fm_mape_r1_KI2020/temp/784000_6036000_nn_tile.tif does not exist, skipping.NN output tile /mnt/datapool1/datapool1/datasets/nvis_outputs/NVIS_8L_fm_mape_r1_KI2020/temp/774000_6031000_nn_tile.tif does not exist, skipping.NN output tile /mnt/datapool1/datapool1/datasets/nvis_outputs/NVIS_8L_fm_mape_r1_KI2020/temp/779000_6041000_nn_tile.tif does not exist, skipping.NN output tile /mnt/datapool1/datapool1/datasets/nvis_outputs/NVIS_8L_fm_mape_r1_KI2020/temp/779000_6051000_nn_tile.tif does not exist, skipping.NN output tile /mnt/datapool1/datapool1/datasets/nvis_outputs/NVIS_8L_fm_mape_r1_KI2020/temp/779000_6056000_nn_tile.tif does not exist, skipping.NN output tile /mnt/datapool1/datapool1/datasets/nvis_outputs/NVIS_8L_fm_mape_r1_KI2020/temp/784000_5996000_nn_tile.tif does not exist, skipping.\n",
      "\n",
      "\n",
      "\n",
      "\n"
     ]
    },
    {
     "name": "stderr",
     "output_type": "stream",
     "text": [
      "batch_list:  93%|\u001b[34m█████████▎\u001b[0m| 433/465 [04:29<00:04,  6.63it/s]"
     ]
    },
    {
     "name": "stdout",
     "output_type": "stream",
     "text": [
      "\n",
      "creating grid completed successfully.\n",
      "Batch grid created in 78.65644240379333 seconds for batch 764000_6041000\n",
      "creating grid completed successfully.\n",
      "Batch grid created in 57.525779724121094 seconds for batch 784000_6051000\n",
      "creating grid completed successfully.\n",
      "Batch grid created in 57.63318586349487 seconds for batch 784000_6046000\n",
      "creating grid completed successfully.\n",
      "Batch grid created in 62.68121123313904 seconds for batch 774000_6006000\n",
      "creating grid completed successfully.\n",
      "Batch grid created in 61.07672142982483 seconds for batch 774000_6001000\n",
      "creating grid completed successfully.\n",
      "Batch grid created in 57.57481288909912 seconds for batch 784000_6041000\n",
      "creating grid completed successfully.\n",
      "Batch grid created in 64.47544145584106 seconds for batch 774000_6016000\n",
      "NN output tile /mnt/datapool1/datapool1/datasets/nvis_outputs/NVIS_8L_fm_mape_r1_KI2020/temp/774000_6006000_nn_tile.tif does not exist, skipping.NN output tile /mnt/datapool1/datapool1/datasets/nvis_outputs/NVIS_8L_fm_mape_r1_KI2020/temp/764000_6041000_nn_tile.tif does not exist, skipping.NN output tile /mnt/datapool1/datapool1/datasets/nvis_outputs/NVIS_8L_fm_mape_r1_KI2020/temp/774000_6001000_nn_tile.tif does not exist, skipping.NN output tile /mnt/datapool1/datapool1/datasets/nvis_outputs/NVIS_8L_fm_mape_r1_KI2020/temp/774000_6016000_nn_tile.tif does not exist, skipping.NN output tile /mnt/datapool1/datapool1/datasets/nvis_outputs/NVIS_8L_fm_mape_r1_KI2020/temp/784000_6051000_nn_tile.tif does not exist, skipping.NN output tile /mnt/datapool1/datapool1/datasets/nvis_outputs/NVIS_8L_fm_mape_r1_KI2020/temp/784000_6041000_nn_tile.tif does not exist, skipping.NN output tile /mnt/datapool1/datapool1/datasets/nvis_outputs/NVIS_8L_fm_mape_r1_KI2020/temp/784000_6046000_nn_tile.tif does not exist, skipping.\n",
      "\n"
     ]
    },
    {
     "name": "stderr",
     "output_type": "stream",
     "text": [
      "batch_list:  94%|\u001b[34m█████████▍\u001b[0m| 439/465 [04:29<00:03,  8.29it/s]"
     ]
    },
    {
     "name": "stdout",
     "output_type": "stream",
     "text": [
      "\n",
      "\n",
      "\n",
      "\n",
      "\n",
      "creating grid completed successfully.\n",
      "Batch grid created in 56.89947032928467 seconds for batch 784000_6016000\n",
      "creating grid completed successfully.\n",
      "Batch grid created in 59.78569054603577 seconds for batch 779000_6046000\n",
      "creating grid completed successfully.\n",
      "Batch grid created in 79.17674899101257 seconds for batch 764000_6031000\n",
      "creating grid completed successfully.\n",
      "Batch grid created in 71.254958152771 seconds for batch 774000_6036000\n",
      "creating grid completed successfully.\n",
      "Batch grid created in 56.90350079536438 seconds for batch 784000_5991000\n",
      "creating grid completed successfully.\n",
      "Batch grid created in 56.98783302307129 seconds for batch 784000_6001000\n",
      "creating grid completed successfully.\n",
      "Batch grid created in 61.44009518623352 seconds for batch 774000_5996000\n",
      "creating grid completed successfully.\n",
      "Batch grid created in 79.56366634368896 seconds for batch 759000_5996000\n",
      "NN output tile /mnt/datapool1/datapool1/datasets/nvis_outputs/NVIS_8L_fm_mape_r1_KI2020/temp/774000_5996000_nn_tile.tif does not exist, skipping.NN output tile /mnt/datapool1/datapool1/datasets/nvis_outputs/NVIS_8L_fm_mape_r1_KI2020/temp/779000_6046000_nn_tile.tif does not exist, skipping.NN output tile /mnt/datapool1/datapool1/datasets/nvis_outputs/NVIS_8L_fm_mape_r1_KI2020/temp/784000_6016000_nn_tile.tif does not exist, skipping.NN output tile /mnt/datapool1/datapool1/datasets/nvis_outputs/NVIS_8L_fm_mape_r1_KI2020/temp/764000_6031000_nn_tile.tif does not exist, skipping.NN output tile /mnt/datapool1/datapool1/datasets/nvis_outputs/NVIS_8L_fm_mape_r1_KI2020/temp/784000_6001000_nn_tile.tif does not exist, skipping.NN output tile /mnt/datapool1/datapool1/datasets/nvis_outputs/NVIS_8L_fm_mape_r1_KI2020/temp/759000_5996000_nn_tile.tif does not exist, skipping.NN output tile /mnt/datapool1/datapool1/datasets/nvis_outputs/NVIS_8L_fm_mape_r1_KI2020/temp/774000_6036000_nn_tile.tif does not exist, skipping.NN output tile /mnt/datapool1/datapool1/datasets/nvis_outputs/NVIS_8L_fm_mape_r1_KI2020/temp/784000_5991000_nn_tile.tif does not exist, skipping.\n",
      "\n"
     ]
    },
    {
     "name": "stderr",
     "output_type": "stream",
     "text": [
      "batch_list:  96%|\u001b[34m█████████▌\u001b[0m| 446/465 [04:29<00:01, 11.96it/s]"
     ]
    },
    {
     "name": "stdout",
     "output_type": "stream",
     "text": [
      "\n",
      "\n",
      "\n",
      "\n",
      "\n",
      "\n",
      "creating grid completed successfully.\n",
      "Batch grid created in 58.37481498718262 seconds for batch 779000_5991000\n",
      "creating grid completed successfully.\n",
      "Batch grid created in 59.964282274246216 seconds for batch 779000_6036000\n",
      "creating grid completed successfully.\n",
      "Batch grid created in 58.75760626792908 seconds for batch 779000_6011000\n",
      "creating grid completed successfully.\n",
      "Batch grid created in 69.7761902809143 seconds for batch 774000_6026000\n",
      "NN output tile /mnt/datapool1/datapool1/datasets/nvis_outputs/NVIS_8L_fm_mape_r1_KI2020/temp/774000_6026000_nn_tile.tif does not exist, skipping.NN output tile /mnt/datapool1/datapool1/datasets/nvis_outputs/NVIS_8L_fm_mape_r1_KI2020/temp/779000_5991000_nn_tile.tif does not exist, skipping.NN output tile /mnt/datapool1/datapool1/datasets/nvis_outputs/NVIS_8L_fm_mape_r1_KI2020/temp/779000_6036000_nn_tile.tif does not exist, skipping.NN output tile /mnt/datapool1/datapool1/datasets/nvis_outputs/NVIS_8L_fm_mape_r1_KI2020/temp/779000_6011000_nn_tile.tif does not exist, skipping.\n",
      "\n",
      "\n",
      "\n"
     ]
    },
    {
     "name": "stderr",
     "output_type": "stream",
     "text": [
      "batch_list:  98%|\u001b[34m█████████▊\u001b[0m| 454/465 [04:29<00:00, 17.76it/s]"
     ]
    },
    {
     "name": "stdout",
     "output_type": "stream",
     "text": [
      "creating grid completed successfully.\n",
      "Batch grid created in 58.80627942085266 seconds for batch 779000_6021000\n",
      "creating grid completed successfully.\n",
      "Batch grid created in 57.299144983291626 seconds for batch 784000_6021000\n",
      "NN output tile /mnt/datapool1/datapool1/datasets/nvis_outputs/NVIS_8L_fm_mape_r1_KI2020/temp/779000_6021000_nn_tile.tif does not exist, skipping.NN output tile /mnt/datapool1/datapool1/datasets/nvis_outputs/NVIS_8L_fm_mape_r1_KI2020/temp/784000_6021000_nn_tile.tif does not exist, skipping.\n",
      "\n",
      "creating grid completed successfully.\n",
      "Batch grid created in 61.74817442893982 seconds for batch 774000_5991000\n",
      "creating grid completed successfully.\n",
      "Batch grid created in 57.497493505477905 seconds for batch 784000_6031000NN output tile /mnt/datapool1/datapool1/datasets/nvis_outputs/NVIS_8L_fm_mape_r1_KI2020/temp/774000_5991000_nn_tile.tif does not exist, skipping.\n",
      "\n"
     ]
    },
    {
     "name": "stderr",
     "output_type": "stream",
     "text": [
      "batch_list:  99%|\u001b[34m█████████▉\u001b[0m| 460/465 [04:30<00:00, 21.09it/s]"
     ]
    },
    {
     "name": "stdout",
     "output_type": "stream",
     "text": [
      "creating grid completed successfully.\n",
      "Batch grid created in 57.40354061126709 seconds for batch 784000_6011000\n",
      "NN output tile /mnt/datapool1/datapool1/datasets/nvis_outputs/NVIS_8L_fm_mape_r1_KI2020/temp/784000_6011000_nn_tile.tif does not exist, skipping.NN output tile /mnt/datapool1/datapool1/datasets/nvis_outputs/NVIS_8L_fm_mape_r1_KI2020/temp/784000_6031000_nn_tile.tif does not exist, skipping.\n",
      "\n",
      "creating grid completed successfully.\n",
      "Batch grid created in 58.65025496482849 seconds for batch 784000_6061000\n",
      "NN output tile /mnt/datapool1/datapool1/datasets/nvis_outputs/NVIS_8L_fm_mape_r1_KI2020/temp/784000_6061000_nn_tile.tif does not exist, skipping.\n",
      "creating grid completed successfully.\n",
      "Batch grid created in 57.52786684036255 seconds for batch 784000_6026000\n",
      "NN output tile /mnt/datapool1/datapool1/datasets/nvis_outputs/NVIS_8L_fm_mape_r1_KI2020/temp/784000_6026000_nn_tile.tif does not exist, skipping.\n",
      "creating grid completed successfully.\n",
      "Batch grid created in 59.06388711929321 seconds for batch 779000_6026000\n",
      "NN output tile /mnt/datapool1/datapool1/datasets/nvis_outputs/NVIS_8L_fm_mape_r1_KI2020/temp/779000_6026000_nn_tile.tif does not exist, skipping.\n"
     ]
    },
    {
     "name": "stderr",
     "output_type": "stream",
     "text": [
      "batch_list: 100%|\u001b[34m██████████\u001b[0m| 465/465 [04:30<00:00,  1.72it/s]\n"
     ]
    }
   ],
   "source": [
    "temp_name = 'temp'\n",
    "temp_path = os.path.join(outputs_path, temp_name)\n",
    "os.makedirs(temp_path, exist_ok=True)\n",
    "\n",
    "cutoff = 0.1\n",
    "\n",
    "grid_size = 5000\n",
    "batch_grid_file = create_batch_grid(nvis_polygon, grid_size, temp_path)\n",
    "\n",
    "# split_nn_outputs(nn_outputs, batch_grid_file, temp_path)\n",
    "\n",
    "# # Convert iterator to list for parallel processing\n",
    "batch_grid_gdf = gpd.read_file(batch_grid_file)\n",
    "batch_list = list(batch_grid_gdf.itertuples())\n",
    "results = []\n",
    "with Pool(mp.cpu_count()) as p:\n",
    "# with Pool(1) as p:\n",
    "    with tqdm(total=len(batch_list), desc='batch_list', colour='blue', dynamic_ncols=True) as pbar_chips:\n",
    "        for batch in batch_list:\n",
    "            batch_grid_bounds = batch.geometry.bounds\n",
    "            batch_id = str(int(batch_grid_bounds[0])) + '_' + str(int(batch_grid_bounds[1]))\n",
    "            # if batch_id != '654000_6041000':\n",
    "            #     pbar_chips.update(1)\n",
    "            #     continue\n",
    "            \n",
    "            row_dict = batch._asdict() if hasattr(batch, '_asdict') else dict(batch)\n",
    "            row_dict['geometry_wkt'] = row_dict['geometry'].wkt\n",
    "            del row_dict['geometry']\n",
    "            result = p.apply_async(process_batch, args=(row_dict,), callback=lambda _: pbar_chips.update(1))\n",
    "            results.append(result)\n",
    "            # break\n",
    "        for result in results:\n",
    "            try:\n",
    "                result.get()  # This will raise any exception that occurred\n",
    "            except Exception as e:\n",
    "                print(f\"Error in process_batch: {e}\")\n",
    "                import traceback\n",
    "                traceback.print_exc()\n",
    "\n",
    "    p.close()\n",
    "    p.join()"
   ]
  }
 ],
 "metadata": {
  "kernelspec": {
   "display_name": "qgis_env",
   "language": "python",
   "name": "python3"
  },
  "language_info": {
   "codemirror_mode": {
    "name": "ipython",
    "version": 3
   },
   "file_extension": ".py",
   "mimetype": "text/x-python",
   "name": "python",
   "nbconvert_exporter": "python",
   "pygments_lexer": "ipython3",
   "version": "3.9.18"
  }
 },
 "nbformat": 4,
 "nbformat_minor": 5
}
